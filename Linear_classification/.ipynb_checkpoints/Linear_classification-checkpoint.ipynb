{
 "cells": [
  {
   "cell_type": "markdown",
   "id": "9d4be157",
   "metadata": {
    "slideshow": {
     "slide_type": "slide"
    }
   },
   "source": [
    "# ЛІНІЙНІ МОДЕЛІ. ЧАСТИНА IІ - КЛАСИФІКАЦІЯ"
   ]
  },
  {
   "cell_type": "markdown",
   "id": "87ad8f52",
   "metadata": {
    "slideshow": {
     "slide_type": "slide"
    }
   },
   "source": [
    "## 1. Визначення та задачі моделей класифікації\n",
    "## 2. Метрики якості класифікаці моделей МН\n",
    "## 3. Моделі класифікації в бібліотеці sklearn-kit"
   ]
  },
  {
   "cell_type": "markdown",
   "id": "76c20ccd",
   "metadata": {
    "slideshow": {
     "slide_type": "slide"
    }
   },
   "source": [
    "## 1. Визначення та задачі моделей класифікації"
   ]
  },
  {
   "cell_type": "markdown",
   "id": "042a4a6a",
   "metadata": {
    "slideshow": {
     "slide_type": "subslide"
    }
   },
   "source": [
    "[__Класифікація__](https://evergreens.com.ua/ua/articles/classical-machine-learning.html) — це тип _навчання з вичителем_, який передбачає прогнозування класу або категорії заданої точки по її вхідним даним. "
   ]
  },
  {
   "attachments": {
    "image.png": {
     "image/png": "[encoded data removed]"
    }
   },
   "cell_type": "markdown",
   "id": "45e32bb3",
   "metadata": {
    "slideshow": {
     "slide_type": "fragment"
    }
   },
   "source": [
    "![image.png](attachment:image.png)"
   ]
  },
  {
   "cell_type": "markdown",
   "id": "508e88d4",
   "metadata": {
    "slideshow": {
     "slide_type": "fragment"
    }
   },
   "source": [
    "__Метою__ моделей класифікації є прогнозування класу або категорії заданої точки вхідних даних. \n",
    "\n",
    "Це досягається шляхом вивчення межі рішення або набору правил, які можна використовувати для класифікації нових, невидимих точок даних в один із кількох попередньо визначених класів або категорій."
   ]
  },
  {
   "cell_type": "markdown",
   "id": "76d0c907",
   "metadata": {
    "slideshow": {
     "slide_type": "subslide"
    }
   },
   "source": [
    "В задачах класифікації цілова змінна - __завжди__ є _категоріальною_."
   ]
  },
  {
   "cell_type": "markdown",
   "id": "fc73bae6",
   "metadata": {
    "slideshow": {
     "slide_type": "subslide"
    }
   },
   "source": [
    "### ТИПИ МОДЕЛЕЙ КЛАСИФІКАЦІЇ"
   ]
  },
  {
   "cell_type": "markdown",
   "id": "55e8466d",
   "metadata": {
    "slideshow": {
     "slide_type": "fragment"
    }
   },
   "source": [
    "- [__Логістична регресія__](https://uk.wikipedia.org/wiki/Логістична_регресія): популярний і простий алгоритм класифікації, який моделює __ймовірність__ двійкової або багатокласової вихідної змінної з урахуванням вхідних характеристик."
   ]
  },
  {
   "cell_type": "markdown",
   "id": "cd4725b8",
   "metadata": {
    "slideshow": {
     "slide_type": "subslide"
    }
   },
   "source": [
    "- [__Дерева рішень__](https://uk.wikipedia.org/wiki/Дерево_ухвалення_рішень): алгоритм класифікації на основі дерева, який _рекурсивно_ розбиває вхідний датасет на менші області, де кожна область відповідає певному класу."
   ]
  },
  {
   "cell_type": "markdown",
   "id": "494311e6",
   "metadata": {
    "slideshow": {
     "slide_type": "fragment"
    }
   },
   "source": [
    "- [__Наивний Байєс__](https://uk.wikipedia.org/wiki/Наївний_баєсів_класифікатор): алгоритм імовірнісної класифікації, який припускає, що вхідні ознаки є умовно незалежними з урахуванням вихідної мітки."
   ]
  },
  {
   "cell_type": "markdown",
   "id": "f2a98262",
   "metadata": {
    "slideshow": {
     "slide_type": "subslide"
    }
   },
   "source": [
    "- [__Випадковий ліс__](): алгоритм ансамблевої класифікації на основі дерева, який поєднує кілька дерев рішень для покращення продуктивності класифікації та зменшення надмірного оснащення."
   ]
  },
  {
   "cell_type": "markdown",
   "id": "37be7265",
   "metadata": {
    "slideshow": {
     "slide_type": "fragment"
    }
   },
   "source": [
    "- [__Випадковий ліс__](https://uk.wikipedia.org/wiki/Random_forest): алгоритм [ансамблевої класифікації](https://en.wikipedia.org/wiki/Ensemble_learning) на основі дерева, який поєднує кілька дерев рішень для покращення продуктивності класифікації та зменшення надмірного перенавчання."
   ]
  },
  {
   "cell_type": "markdown",
   "id": "b5947e48",
   "metadata": {
    "slideshow": {
     "slide_type": "subslide"
    }
   },
   "source": [
    "- [__K-найближчі сусіди (KNN)__](https://uk.wikipedia.org/wiki/Метод_k-найближчих_сусідів): непараметричний алгоритм класифікації, який призначає найпоширеніший клас серед K-найближчих сусідів даної точки вхідних даних у навчальному наборі даних.\n",
    "\n",
    "- [__. . .__](https://towardsdatascience.com/top-machine-learning-algorithms-for-classification-2197870ff501)"
   ]
  },
  {
   "cell_type": "markdown",
   "id": "fb0f4e56",
   "metadata": {
    "slideshow": {
     "slide_type": "subslide"
    }
   },
   "source": [
    "Моделі класифікації використовуються в широкому діапазоні длдатків, таких як \n",
    "- [класифікація зображень](https://www.sciencedirect.com/topics/engineering/image-classification), \n",
    "- [аналіз настроїв](https://uk.wikipedia.org/wiki/Аналіз_тональності_тексту), \n",
    "- [виявлення спаму](https://towardsdatascience.com/email-spam-detection-1-2-b0e06a5c0472),\n",
    "- [виявлення шахрайства](https://www.ravelin.com/insights/machine-learning-for-fraud-detection) \n",
    "- . . . "
   ]
  },
  {
   "cell_type": "markdown",
   "id": "8e4dbf2d",
   "metadata": {
    "slideshow": {
     "slide_type": "slide"
    }
   },
   "source": [
    "## 2. Метрики якості класифікаці моделей МН"
   ]
  },
  {
   "cell_type": "markdown",
   "id": "9191759d",
   "metadata": {
    "slideshow": {
     "slide_type": "subslide"
    }
   },
   "source": [
    "__Основні метрики__ классифікації:\n",
    "\n",
    "- __Достовірність__: вимірює частку правильних прогнозів, зроблених моделлю серед усіх прогнозів. Зазвичай використовується, коли класи збалансовані та однаково важливі."
   ]
  },
  {
   "cell_type": "markdown",
   "id": "a3b4753e",
   "metadata": {
    "slideshow": {
     "slide_type": "fragment"
    }
   },
   "source": [
    "- __Точність__: вимірює частку справжніх позитивних прогнозів, зроблених моделлю серед усіх позитивних прогнозів. \n",
    "\n",
    "Зазвичай використовується, коли вартість хибних прогнозів висока, і метою є їх мінімізація."
   ]
  },
  {
   "cell_type": "markdown",
   "id": "01c735a2",
   "metadata": {
    "slideshow": {
     "slide_type": "subslide"
    }
   },
   "source": [
    "- __Відгук__ - він вимірює частку справжніх позитивних прогнозів, зроблених моделлю серед усіх фактичних позитивних випадків у наборі даних. \n",
    "\n",
    "Він зазвичай використовується, коли вартість хибно негативних результатів висока, і метою є мінімізація помилкових негативних прогнозів."
   ]
  },
  {
   "cell_type": "markdown",
   "id": "ccdf3e03",
   "metadata": {
    "slideshow": {
     "slide_type": "subslide"
    }
   },
   "source": [
    "- __Оцінка F1__: це зважене гармонічне середнє значення точності та відгуку. \n",
    "\n",
    "Його зазвичай використовують, коли і точність, і відгук однаково важливі."
   ]
  },
  {
   "cell_type": "markdown",
   "id": "ac2b254c",
   "metadata": {
    "slideshow": {
     "slide_type": "subslide"
    }
   },
   "source": [
    "- [__Крива ROC і AUC__](https://uk.wikipedia.org/wiki/ROC-крива): крива робочої характеристики приймача (Receiver Operating Characteristic) (ROC) є графіком істинної позитивної частоти (True Positive Rate) проти помилкової позитивної частоти (False Positive Rate) при різних порогових значеннях. Площа під кривою ROC (AUC) — число, яке вимірює загальну продуктивність класифікатора, і воно варіюється від 0 до 1, причому вищі значення вказують на кращу якість моделі.\n",
    "\n",
    "Аналіз класифікацій із застосуванням ROC-кривих називається __ROC-аналізом__."
   ]
  },
  {
   "cell_type": "markdown",
   "id": "3bd8b0ee",
   "metadata": {
    "slideshow": {
     "slide_type": "subslide"
    }
   },
   "source": [
    "- [__Матриця плутанини (Confusion Matrix)__](https://en.wikipedia.org/wiki/Confusion_matrix): таблиця, яка показує кількість справжніх позитивних результатів (__TP__), помилкових позитивних результатів (__FP__), справжніх негативних результатів (__TN__) і помилкових негативних результатів (__FN__) для даної моделі класифікації. \n",
    "\n",
    "Він зазвичай використовується для візуалізації продуктивності класифікатора та розрахунку різних показників, таких як _достовірність_, _точність_ і _відгук_."
   ]
  },
  {
   "cell_type": "markdown",
   "id": "21be0761",
   "metadata": {
    "slideshow": {
     "slide_type": "subslide"
    }
   },
   "source": [
    "[__Перелік__](https://scikit-learn.org/stable/modules/model_evaluation.html#classification-metrics) метрик для оцінювання якості моделей класифікації в бібліотеці `sklearn-kit`"
   ]
  },
  {
   "cell_type": "markdown",
   "id": "0e46a544",
   "metadata": {
    "slideshow": {
     "slide_type": "slide"
    }
   },
   "source": [
    "## 3. Лінійні моделі класифікації в бібліотеці sklearn-kit"
   ]
  },
  {
   "cell_type": "markdown",
   "id": "d18fa07a",
   "metadata": {
    "slideshow": {
     "slide_type": "subslide"
    }
   },
   "source": [
    "- __Логістична регресія__: це широко використовувана лінійна модель для бінарної класифікації, де цільова змінна є двійковою (0 або 1). Логістична регресія оцінює ймовірність того, що цільова змінна дорівнює 1, враховуючи вхідні характеристики."
   ]
  },
  {
   "cell_type": "markdown",
   "id": "f78b3601",
   "metadata": {
    "slideshow": {
     "slide_type": "subslide"
    }
   },
   "source": [
    "- __Машини опорних векторів__ (SVM) - лінійна модель, яка використовується для двійкової та багатокласової класифікації. \n",
    "\n",
    "SVM знаходять гіперплощину, яка максимізує зазор між двома класами. _Зазор_ – це відстань між гіперплощиною та найближчими точками даних з кожного класу."
   ]
  },
  {
   "cell_type": "markdown",
   "id": "17926596",
   "metadata": {
    "slideshow": {
     "slide_type": "subslide"
    }
   },
   "source": [
    "- __Лінійний дискримінантний аналіз__ (LDA) - це лінійна модель, яка використовується для багатокласової класифікації, де цільова змінна може приймати більше двох значень. LDA проектує вхідні дані на низьковимірний простір і знаходить лінійні межі між класами."
   ]
  },
  {
   "cell_type": "markdown",
   "id": "3aca3860",
   "metadata": {
    "slideshow": {
     "slide_type": "subslide"
    }
   },
   "source": [
    "### Логістична регресія"
   ]
  },
  {
   "cell_type": "markdown",
   "id": "7a509504",
   "metadata": {
    "slideshow": {
     "slide_type": "subslide"
    }
   },
   "source": [
    "[__Логістична регресія__](https://uk.wikipedia.org/wiki/Логістична_регресія) — це популярний алгоритм машинного навчання, який використовується для побудови моделей [бінарної](https://en.wikipedia.org/wiki/Binary_classification) та [багатокласової](https://en.wikipedia.org/wiki/Multiclass_classification) класифікації. \n",
    "\n",
    "Це тип навчання з вчителем, мета якого полягає в тому, щоб дізнатися поріг прийняття рішення, який може розділити вхідні дані на різні класи або категорії."
   ]
  },
  {
   "cell_type": "markdown",
   "id": "8d842e1c",
   "metadata": {
    "slideshow": {
     "slide_type": "subslide"
    }
   },
   "source": [
    "Логістична регресія припускає, що цільова змінна є _двійковою_ або _категоріальною_ за своєю природою, і вона моделює __ймовірність__ належності вхідних даних до кожного класу. \n",
    "\n",
    "Результатом алгоритму є _прогнозована ймовірність_ належності вхідних даних до кожного класу, яка потім обмежується порогом, щоб призначити вхідні дані певному класу."
   ]
  },
  {
   "cell_type": "markdown",
   "id": "fe2728ac",
   "metadata": {
    "slideshow": {
     "slide_type": "subslide"
    }
   },
   "source": [
    "__Рівняння логістичної регресії ([сигмоїда](https://uk.wikipedia.org/wiki/Сигмоїда))__\n",
    "\n",
    "$$p(y=1 | \\boldsymbol{X}; b, \\boldsymbol{\\theta}) = \\frac{1}{1 + e^{-(b + \\boldsymbol{\\theta}^T\\boldsymbol{X})}}$$\n",
    "\n",
    "$p(y=1 | \\boldsymbol{X}; b, \\boldsymbol{\\theta})$ є прогнозованою ймовірністю того, що вихідна змінна $y$ дорівнює __1__ із заданим вхідним вектором $\\boldsymbol{X}$, параметром зміщення $b$,та параметрами моделі $\\boldsymbol{\\theta}$.\n",
    "\n",
    "$\\boldsymbol{b}$ - параметр зміщення\n",
    "\n",
    "$\\boldsymbol{\\theta}$ є вектором параметрів або ваг моделі\n",
    "\n",
    "$\\boldsymbol{X}$ є вхідним вектором або вектором ознак"
   ]
  },
  {
   "attachments": {
    "image-5.png": {
     "image/png": "[encoded data removed]"
    }
   },
   "cell_type": "markdown",
   "id": "83de9a5c",
   "metadata": {
    "slideshow": {
     "slide_type": "subslide"
    }
   },
   "source": [
    "$$\\Tiny p(y=1 | \\boldsymbol{X}; b, \\boldsymbol{\\theta}) = \\frac{1}{1 + e^{-(b + \\boldsymbol{\\theta}^T\\boldsymbol{X})}}$$\n",
    "![image-5.png](attachment:image-5.png)"
   ]
  },
  {
   "cell_type": "markdown",
   "id": "e7a7e7c7",
   "metadata": {
    "slideshow": {
     "slide_type": "slide"
    }
   },
   "source": [
    "[Пояснення](https://ai.plainenglish.io/why-is-logistic-regression-called-regression-if-it-is-a-classification-algorithm-9c2a166e7b74) терміну 'регресія' в класифікаторах на моделі логістичної регресії"
   ]
  },
  {
   "cell_type": "markdown",
   "id": "c5b9a36a",
   "metadata": {
    "slideshow": {
     "slide_type": "subslide"
    }
   },
   "source": [
    "<a id='priklad'><h3>ПРИКЛАД</h3></a>"
   ]
  },
  {
   "cell_type": "code",
   "execution_count": 85,
   "id": "d1d8d125",
   "metadata": {
    "slideshow": {
     "slide_type": "subslide"
    }
   },
   "outputs": [],
   "source": [
    "import pandas as pd\n",
    "import numpy as np\n",
    "from sklearn.datasets import make_classification\n",
    "\n",
    "# хелпер для побудови синтетичного датасету на n-х параметрах з 100 елементів\n",
    "def make_datasets(count_x, balance, noise):\n",
    "    '''balance - масив часток кожного класу в датасеті\n",
    "       noise - частка шуму в датасеті, count_x - кількість незалежних змінних'''\n",
    "    return make_classification(n_samples=100, n_features=count_x, n_redundant=0,\n",
    "                           n_informative=1, n_clusters_per_class=1,\n",
    "                           weights=balance, flip_y=noise,\n",
    "                           class_sep=1, random_state=42)"
   ]
  },
  {
   "cell_type": "code",
   "execution_count": 86,
   "id": "76e0d9e9",
   "metadata": {
    "slideshow": {
     "slide_type": "fragment"
    }
   },
   "outputs": [],
   "source": [
    "X, y = make_datasets(count_x=2, balance=[.9, .1,], noise=0.1)"
   ]
  },
  {
   "cell_type": "code",
   "execution_count": 87,
   "id": "32e6e0d0",
   "metadata": {
    "code_folding": [],
    "slideshow": {
     "slide_type": "subslide"
    }
   },
   "outputs": [],
   "source": [
    "# формуємо датафрейм з кількістю спостережень кожного класу\n",
    "class_name, class_count = np.unique(y, return_counts=True)\n",
    "y_total = pd.DataFrame({'кількість значень' : class_count})"
   ]
  },
  {
   "cell_type": "code",
   "execution_count": 88,
   "id": "30eaa7b3",
   "metadata": {
    "slideshow": {
     "slide_type": "fragment"
    }
   },
   "outputs": [
    {
     "data": {
      "text/html": [
       "<div>\n",
       "<style scoped>\n",
       "    .dataframe tbody tr th:only-of-type {\n",
       "        vertical-align: middle;\n",
       "    }\n",
       "\n",
       "    .dataframe tbody tr th {\n",
       "        vertical-align: top;\n",
       "    }\n",
       "\n",
       "    .dataframe thead th {\n",
       "        text-align: right;\n",
       "    }\n",
       "</style>\n",
       "<table border=\"1\" class=\"dataframe\">\n",
       "  <thead>\n",
       "    <tr style=\"text-align: right;\">\n",
       "      <th></th>\n",
       "      <th>кількість значень</th>\n",
       "    </tr>\n",
       "  </thead>\n",
       "  <tbody>\n",
       "    <tr>\n",
       "      <th>0</th>\n",
       "      <td>84</td>\n",
       "    </tr>\n",
       "    <tr>\n",
       "      <th>1</th>\n",
       "      <td>16</td>\n",
       "    </tr>\n",
       "  </tbody>\n",
       "</table>\n",
       "</div>"
      ],
      "text/plain": [
       "   кількість значень\n",
       "0                 84\n",
       "1                 16"
      ]
     },
     "execution_count": 88,
     "metadata": {},
     "output_type": "execute_result"
    }
   ],
   "source": [
    "y_total"
   ]
  },
  {
   "cell_type": "code",
   "execution_count": 89,
   "id": "bdb4ff4b",
   "metadata": {
    "code_folding": [],
    "slideshow": {
     "slide_type": "subslide"
    }
   },
   "outputs": [
    {
     "data": {
      "image/png": "[encoded data removed]",
      "text/plain": [
       "<Figure size 640x480 with 1 Axes>"
      ]
     },
     "metadata": {},
     "output_type": "display_data"
    }
   ],
   "source": [
    "import matplotlib.pyplot as plt\n",
    "with plt.style.context('ggplot'):\n",
    "    y_total.plot.barh(alpha=.7)\n",
    "    plt.title('розподілення елементів по класам')\n",
    "    plt.xlabel('число елементів в класі')\n",
    "    plt.ylabel('клас')\n",
    "    plt.show()"
   ]
  },
  {
   "cell_type": "code",
   "execution_count": null,
   "id": "c84e46e2",
   "metadata": {
    "slideshow": {
     "slide_type": "subslide"
    }
   },
   "outputs": [],
   "source": [
    "# будуємо класифікатор\n",
    "from sklearn.linear_model import LogisticRegression\n",
    "logreg = LogisticRegression(penalty='l2', C=100, random_state=42)"
   ]
  },
  {
   "cell_type": "code",
   "execution_count": 91,
   "id": "dd6e0165",
   "metadata": {
    "scrolled": false,
    "slideshow": {
     "slide_type": "subslide"
    }
   },
   "outputs": [],
   "source": [
    "# тренуємо класифікатор \n",
    "_ = logreg.fit(X, y)"
   ]
  },
  {
   "cell_type": "code",
   "execution_count": 92,
   "id": "6aa3edf3",
   "metadata": {
    "slideshow": {
     "slide_type": "fragment"
    }
   },
   "outputs": [
    {
     "name": "stdout",
     "output_type": "stream",
     "text": [
      "коєфіцієнти логістичного рівняння: [-0.48  2.42]\n"
     ]
    }
   ],
   "source": [
    "print(f'коєфіцієнти логістичного рівняння: {logreg.coef_[0].round(2)}')"
   ]
  },
  {
   "cell_type": "markdown",
   "id": "b2072d73",
   "metadata": {
    "slideshow": {
     "slide_type": "fragment"
    }
   },
   "source": [
    "$P(y) = \\large {\\frac{1}{1 + e^{\\boldsymbol{-(\\theta_{\\scriptsize 0}x_{\\scriptsize 0} + \\theta_{\\scriptsize 1}x_{\\scriptsize 1}})}} = \\frac{1}{1 + e^{\\boldsymbol{-({-0.3x_{\\scriptsize 0} + 2.23x_{\\scriptsize 1}})}}}} \\Rightarrow y = \\small\n",
    "\\begin{cases}\n",
    "1, \\   P \\ \\geqslant 0.5 \\\\\n",
    "0, \\  P \\ < 0.5\n",
    "\\end{cases}\n",
    "$\n"
   ]
  },
  {
   "cell_type": "markdown",
   "id": "e11ddcd5",
   "metadata": {
    "slideshow": {
     "slide_type": "subslide"
    }
   },
   "source": [
    "__Поріг прийняття рішення__ [(deсision threshold)](https://www.iguazio.com/glossary/classification-threshold/) - це значення, яке використовується для визначення класифікації прогнозованої ймовірності в одну з двох категорій. \n",
    "\n",
    "Поріг прийняття рішення для _бінарної_ логістичної регресії встановлено в __0.5__"
   ]
  },
  {
   "cell_type": "code",
   "execution_count": 90,
   "id": "ae69d241",
   "metadata": {
    "slideshow": {
     "slide_type": "subslide"
    }
   },
   "outputs": [],
   "source": [
    "# вибираємо стратегію валідації\n",
    "from sklearn.model_selection import ShuffleSplit\n",
    "cv = ShuffleSplit(n_splits=10, random_state=42)"
   ]
  },
  {
   "cell_type": "code",
   "execution_count": 93,
   "id": "951acb9e",
   "metadata": {
    "slideshow": {
     "slide_type": "subslide"
    }
   },
   "outputs": [
    {
     "name": "stdout",
     "output_type": "stream",
     "text": [
      "достовірність класифікації на навчанні = 0.92\n",
      "достовірність класифікації на крос-валідації = 0.94\n",
      "збалансована достовірність класифікації = 0.78\n"
     ]
    }
   ],
   "source": [
    "# валідуємо його якість\n",
    "from sklearn.model_selection import cross_validate, cross_val_score\n",
    "from sklearn.metrics import balanced_accuracy_score\n",
    "\n",
    "print(f'достовірність класифікації на навчанні = {logreg.score(X, y):.2f}')\n",
    "\n",
    "accuracy = cross_val_score(logreg, X, y, scoring='accuracy', cv=cv)\n",
    "print(f'достовірність класифікації на крос-валідації = {accuracy.mean():.2f}')\n",
    "\n",
    "balanced_accuracy = balanced_accuracy_score(y, logreg.predict(X))\n",
    "print(f'збалансована достовірність класифікації = {balanced_accuracy:.2f}')"
   ]
  },
  {
   "cell_type": "markdown",
   "id": "ba0bd937",
   "metadata": {
    "slideshow": {
     "slide_type": "subslide"
    }
   },
   "source": [
    "#### Матриця помилок (Confusion Matrix)"
   ]
  },
  {
   "cell_type": "code",
   "execution_count": 94,
   "id": "4fb2a000",
   "metadata": {
    "slideshow": {
     "slide_type": "subslide"
    }
   },
   "outputs": [],
   "source": [
    "from sklearn.metrics import confusion_matrix, ConfusionMatrixDisplay\n",
    "# confusion_matrix?"
   ]
  },
  {
   "cell_type": "code",
   "execution_count": 95,
   "id": "ea8ca557",
   "metadata": {
    "slideshow": {
     "slide_type": "fragment"
    }
   },
   "outputs": [],
   "source": [
    "# будуємо прогноз\n",
    "y_pred = logreg.predict(X)"
   ]
  },
  {
   "cell_type": "code",
   "execution_count": 96,
   "id": "13252588",
   "metadata": {
    "slideshow": {
     "slide_type": "fragment"
    }
   },
   "outputs": [],
   "source": [
    "# будуємо матрицю помилок\n",
    "cm = confusion_matrix(y, y_pred)"
   ]
  },
  {
   "cell_type": "code",
   "execution_count": 97,
   "id": "3861b559",
   "metadata": {
    "slideshow": {
     "slide_type": "subslide"
    }
   },
   "outputs": [
    {
     "data": {
      "image/png": "[encoded data removed]",
      "text/plain": [
       "<Figure size 640x480 with 2 Axes>"
      ]
     },
     "metadata": {},
     "output_type": "display_data"
    }
   ],
   "source": [
    "disp = ConfusionMatrixDisplay(confusion_matrix=cm)\n",
    "disp.from_estimator(logreg, X, y, im_kw={'alpha':.7})\n",
    "plt.xlabel('Прогноз')\n",
    "plt.ylabel('Істина')\n",
    "plt.title('Матриця помилок')\n",
    "plt.show()"
   ]
  },
  {
   "cell_type": "code",
   "execution_count": 98,
   "id": "8f742658",
   "metadata": {
    "code_folding": [],
    "slideshow": {
     "slide_type": "subslide"
    }
   },
   "outputs": [
    {
     "data": {
      "image/png": "[encoded data removed]",
      "text/plain": [
       "<Figure size 640x480 with 1 Axes>"
      ]
     },
     "metadata": {},
     "output_type": "display_data"
    }
   ],
   "source": [
    "with plt.style.context('ggplot'):\n",
    "\n",
    "    plt.scatter(X[:, 0], X[:, 1], marker=\"o\", c=y, s=25, edgecolor=\"k\")\n",
    "    \n",
    "    plt.xlabel('${x_1}$')\n",
    "    plt.ylabel('${x_2}$')\n",
    "    plt.title ('Графічна інтерпретація результату моделювання', fontdict={'fontsize': 10})\n",
    "    x_min, x_max = plt.xlim()\n",
    "    coef = logreg.coef_[0]\n",
    "    intercept = logreg.intercept_\n",
    "    y_calculated = (-intercept - coef[0] * np.linspace(x_min, x_max, 100) / coef[1])\n",
    "    plt.plot(np.linspace(x_min, x_max, 100), y_calculated, 'b-.', label='Межа класів')\n",
    "    plt.legend()\n",
    "    plt.show()\n"
   ]
  },
  {
   "cell_type": "code",
   "execution_count": 99,
   "id": "32a997cc",
   "metadata": {
    "slideshow": {
     "slide_type": "subslide"
    }
   },
   "outputs": [
    {
     "name": "stdout",
     "output_type": "stream",
     "text": [
      "Достовірність класифікації:\t 0.900\n",
      "Точність класифікації:\t\t 0.900\n",
      "Відгук класифікації:\t\t 0.562\n",
      "f1-оцінка класифікації:\t\t 0.692\n",
      "--------------------------------------\n",
      "Збалансована достовірність:\t 0.775\n"
     ]
    }
   ],
   "source": [
    "from sklearn.metrics import precision_score, recall_score, f1_score, \\\n",
    "                            accuracy_score, balanced_accuracy_score\n",
    "\n",
    "accuracy = precision_score(y, y_pred)\n",
    "precision = precision_score(y, y_pred)\n",
    "recall = recall_score(y, y_pred)\n",
    "f1 = f1_score(y, y_pred)\n",
    "balanced_accuracy = balanced_accuracy_score(y, y_pred)\n",
    "\n",
    "print(f\"Достовірність класифікації:\\t {accuracy:.3f}\")\n",
    "print(f\"Точність класифікації:\\t\\t {precision:.3f}\")\n",
    "print(f\"Відгук класифікації:\\t\\t {recall:.3f}\")\n",
    "print(f\"f1-оцінка класифікації:\\t\\t {f1:.3f}\\n\", end='-'*38)\n",
    "print(f\"\\nЗбалансована достовірність:\\t {balanced_accuracy:.3f}\")"
   ]
  },
  {
   "cell_type": "code",
   "execution_count": 100,
   "id": "7169e4b0",
   "metadata": {
    "slideshow": {
     "slide_type": "subslide"
    }
   },
   "outputs": [
    {
     "data": {
      "text/html": [
       "<div>\n",
       "<style scoped>\n",
       "    .dataframe tbody tr th:only-of-type {\n",
       "        vertical-align: middle;\n",
       "    }\n",
       "\n",
       "    .dataframe tbody tr th {\n",
       "        vertical-align: top;\n",
       "    }\n",
       "\n",
       "    .dataframe thead th {\n",
       "        text-align: right;\n",
       "    }\n",
       "</style>\n",
       "<table border=\"1\" class=\"dataframe\">\n",
       "  <thead>\n",
       "    <tr style=\"text-align: right;\">\n",
       "      <th></th>\n",
       "      <th>0</th>\n",
       "      <th>1</th>\n",
       "    </tr>\n",
       "  </thead>\n",
       "  <tbody>\n",
       "    <tr>\n",
       "      <th>0</th>\n",
       "      <td>0.838512</td>\n",
       "      <td>0.161488</td>\n",
       "    </tr>\n",
       "    <tr>\n",
       "      <th>1</th>\n",
       "      <td>0.868228</td>\n",
       "      <td>0.131772</td>\n",
       "    </tr>\n",
       "    <tr>\n",
       "      <th>2</th>\n",
       "      <td>0.928095</td>\n",
       "      <td>0.071905</td>\n",
       "    </tr>\n",
       "    <tr>\n",
       "      <th>3</th>\n",
       "      <td>0.948135</td>\n",
       "      <td>0.051865</td>\n",
       "    </tr>\n",
       "    <tr>\n",
       "      <th>4</th>\n",
       "      <td>0.969366</td>\n",
       "      <td>0.030634</td>\n",
       "    </tr>\n",
       "  </tbody>\n",
       "</table>\n",
       "</div>"
      ],
      "text/plain": [
       "          0         1\n",
       "0  0.838512  0.161488\n",
       "1  0.868228  0.131772\n",
       "2  0.928095  0.071905\n",
       "3  0.948135  0.051865\n",
       "4  0.969366  0.030634"
      ]
     },
     "execution_count": 100,
     "metadata": {},
     "output_type": "execute_result"
    }
   ],
   "source": [
    "# результати класифікації в вирогідностному представлені\n",
    "pd.DataFrame(logreg.predict_proba(X), columns=logreg.classes_).head()"
   ]
  },
  {
   "cell_type": "code",
   "execution_count": 101,
   "id": "7c84eab6",
   "metadata": {
    "slideshow": {
     "slide_type": "subslide"
    }
   },
   "outputs": [],
   "source": [
    "from sklearn.metrics import PrecisionRecallDisplay\n",
    "\n",
    "disp = PrecisionRecallDisplay.from_estimator(logreg, X, y, pos_label=0, marker='.',\n",
    "                                            linestyle='-')\n",
    "disp = PrecisionRecallDisplay.from_estimator(logreg, X, y, pos_label=1, marker=\".\",\n",
    "                                             ax=disp.ax_)"
   ]
  },
  {
   "cell_type": "markdown",
   "id": "42e99921",
   "metadata": {
    "slideshow": {
     "slide_type": "slide"
    }
   },
   "source": [
    "### Машина опорних векторів SVM"
   ]
  },
  {
   "cell_type": "markdown",
   "id": "15537ba8",
   "metadata": {
    "slideshow": {
     "slide_type": "subslide"
    }
   },
   "source": [
    "[Машина опорних векторів](https://uk.wikipedia.org/wiki/Метод_опорних_векторів) (SVM) — це алгоритм машинного навчання, який використовується для задач класифікації та регресії."
   ]
  },
  {
   "attachments": {
    "image.png": {
     "image/png": "[encoded data removed]"
    }
   },
   "cell_type": "markdown",
   "id": "3e131f5f",
   "metadata": {
    "slideshow": {
     "slide_type": "slide"
    }
   },
   "source": [
    "__Основні функції SVM__:\n",
    "\n",
    "- SVM намагається знайти гіперплощину (лінійну чи нелінійну), яка розділяє різні класи з максимально можливим запасом (зазор). Запас визначається як відстань між гіперплощиною та найближчими точками даних кожного класу.\n",
    "\n",
    "![image.png](attachment:image.png)"
   ]
  },
  {
   "cell_type": "markdown",
   "id": "4e2e81aa",
   "metadata": {
    "slideshow": {
     "slide_type": "subslide"
    }
   },
   "source": [
    "- SVM використовує __трюк з ядром__ ([Kernel Trick](https://towardsdatascience.com/the-kernel-trick-c98cdbcaeb3f)), щоб відобразити дані у просторі з більшою вимірністю, де легше знайти роздільну гіперплощину. Це особливо корисно, коли дані не можна лінійно розділити у вихідному просторі."
   ]
  },
  {
   "cell_type": "markdown",
   "id": "af05ea9c",
   "metadata": {
    "slideshow": {
     "slide_type": "subslide"
    }
   },
   "source": [
    "- SVM менш чутливий до викидів, ніж деякі інші алгоритми машинного навчання, оскільки він намагається знайти максимальну гіперплощину запасу, на яку не впливають викиди, розташовані далеко від гіперплощини."
   ]
  },
  {
   "cell_type": "markdown",
   "id": "404a42e0",
   "metadata": {
    "slideshow": {
     "slide_type": "subslide"
    }
   },
   "source": [
    "- SVM можна _регуляризувати_ шляхом додавання штрафного коєфіцієнта, що допомагає уникнути перенавчання та покращити узагальнення."
   ]
  },
  {
   "cell_type": "markdown",
   "id": "915ae6ba",
   "metadata": {
    "slideshow": {
     "slide_type": "subslide"
    }
   },
   "source": [
    "- SVM може обробляти нелінійні дані за допомогою різних типів ядер, таких як поліноміальна, радіальна базисна функція (RBF) і сигмоїда."
   ]
  },
  {
   "cell_type": "markdown",
   "id": "0e74b97b",
   "metadata": {
    "slideshow": {
     "slide_type": "subslide"
    }
   },
   "source": [
    "- SVM добре працює з наборами даних _малого та середнього_ розміру, але може не підходити для великих наборів даних через високу обчислювальну вартість."
   ]
  },
  {
   "cell_type": "markdown",
   "id": "cb2df9f3",
   "metadata": {
    "slideshow": {
     "slide_type": "slide"
    }
   },
   "source": [
    "__Достоїнства__:\n",
    "\n",
    "- Ефективний у на великій кількості ознак.\n",
    "- Ефективний, коли кількість ознак перевищує кількість зразків.\n",
    "- Добре працює як з лінійними, так і з нелінійними даними.\n",
    "- Толерантний до викидів.\n",
    "- Може бути використаний як для двійкової, так і для багатокласової класифікації.\n",
    "- Хороша якість узагальнення."
   ]
  },
  {
   "cell_type": "markdown",
   "id": "1c92fa9e",
   "metadata": {
    "slideshow": {
     "slide_type": "subslide"
    }
   },
   "source": [
    "__Недоліки__:\n",
    "- Досить чутливий до вибору функції ядра та гіперпараметрів.\n",
    "- Обчислювально дорогий для великих наборів даних.\n",
    "- Може бути схильний до перенавчання, якщо параметр регуляризації не налаштований належним чином.\n",
    "- Інтерпретація результатів може бути складною."
   ]
  },
  {
   "cell_type": "markdown",
   "id": "3bdca0d9",
   "metadata": {
    "slideshow": {
     "slide_type": "subslide"
    }
   },
   "source": [
    "<a id='priklad'><h3>ПРИКЛАД</h3></a>\n",
    "\n",
    "_Побудувати класифікатор для прогнозування значееня показчика 'раса' в датасеті 'adult-census.csv'_"
   ]
  },
  {
   "cell_type": "code",
   "execution_count": 102,
   "id": "b49cb4a2",
   "metadata": {
    "slideshow": {
     "slide_type": "subslide"
    }
   },
   "outputs": [
    {
     "data": {
      "text/html": [
       "<div>\n",
       "<style scoped>\n",
       "    .dataframe tbody tr th:only-of-type {\n",
       "        vertical-align: middle;\n",
       "    }\n",
       "\n",
       "    .dataframe tbody tr th {\n",
       "        vertical-align: top;\n",
       "    }\n",
       "\n",
       "    .dataframe thead th {\n",
       "        text-align: right;\n",
       "    }\n",
       "</style>\n",
       "<table border=\"1\" class=\"dataframe\">\n",
       "  <thead>\n",
       "    <tr style=\"text-align: right;\">\n",
       "      <th></th>\n",
       "      <th>age</th>\n",
       "      <th>workclass</th>\n",
       "      <th>education</th>\n",
       "      <th>education-num</th>\n",
       "      <th>marital-status</th>\n",
       "      <th>occupation</th>\n",
       "      <th>relationship</th>\n",
       "      <th>race</th>\n",
       "      <th>sex</th>\n",
       "      <th>capital-gain</th>\n",
       "      <th>capital-loss</th>\n",
       "      <th>hours-per-week</th>\n",
       "      <th>native-country</th>\n",
       "      <th>class</th>\n",
       "    </tr>\n",
       "  </thead>\n",
       "  <tbody>\n",
       "    <tr>\n",
       "      <th>0</th>\n",
       "      <td>25</td>\n",
       "      <td>Private</td>\n",
       "      <td>11th</td>\n",
       "      <td>7</td>\n",
       "      <td>Never-married</td>\n",
       "      <td>Machine-op-inspct</td>\n",
       "      <td>Own-child</td>\n",
       "      <td>Black</td>\n",
       "      <td>Male</td>\n",
       "      <td>0</td>\n",
       "      <td>0</td>\n",
       "      <td>40</td>\n",
       "      <td>United-States</td>\n",
       "      <td>&lt;=50K</td>\n",
       "    </tr>\n",
       "    <tr>\n",
       "      <th>1</th>\n",
       "      <td>38</td>\n",
       "      <td>Private</td>\n",
       "      <td>HS-grad</td>\n",
       "      <td>9</td>\n",
       "      <td>Married-civ-spouse</td>\n",
       "      <td>Farming-fishing</td>\n",
       "      <td>Husband</td>\n",
       "      <td>White</td>\n",
       "      <td>Male</td>\n",
       "      <td>0</td>\n",
       "      <td>0</td>\n",
       "      <td>50</td>\n",
       "      <td>United-States</td>\n",
       "      <td>&lt;=50K</td>\n",
       "    </tr>\n",
       "    <tr>\n",
       "      <th>2</th>\n",
       "      <td>28</td>\n",
       "      <td>Local-gov</td>\n",
       "      <td>Assoc-acdm</td>\n",
       "      <td>12</td>\n",
       "      <td>Married-civ-spouse</td>\n",
       "      <td>Protective-serv</td>\n",
       "      <td>Husband</td>\n",
       "      <td>White</td>\n",
       "      <td>Male</td>\n",
       "      <td>0</td>\n",
       "      <td>0</td>\n",
       "      <td>40</td>\n",
       "      <td>United-States</td>\n",
       "      <td>&gt;50K</td>\n",
       "    </tr>\n",
       "  </tbody>\n",
       "</table>\n",
       "</div>"
      ],
      "text/plain": [
       "   age   workclass    education  education-num       marital-status  \\\n",
       "0   25     Private         11th              7        Never-married   \n",
       "1   38     Private      HS-grad              9   Married-civ-spouse   \n",
       "2   28   Local-gov   Assoc-acdm             12   Married-civ-spouse   \n",
       "\n",
       "           occupation relationship    race    sex  capital-gain  capital-loss  \\\n",
       "0   Machine-op-inspct    Own-child   Black   Male             0             0   \n",
       "1     Farming-fishing      Husband   White   Male             0             0   \n",
       "2     Protective-serv      Husband   White   Male             0             0   \n",
       "\n",
       "   hours-per-week  native-country   class  \n",
       "0              40   United-States   <=50K  \n",
       "1              50   United-States   <=50K  \n",
       "2              40   United-States    >50K  "
      ]
     },
     "execution_count": 102,
     "metadata": {},
     "output_type": "execute_result"
    }
   ],
   "source": [
    "import pandas as pd\n",
    "data = pd.read_csv('adult-census.csv')\n",
    "data.head(3)"
   ]
  },
  {
   "cell_type": "code",
   "execution_count": 103,
   "id": "fde59224",
   "metadata": {
    "slideshow": {
     "slide_type": "subslide"
    }
   },
   "outputs": [],
   "source": [
    "# видалимо 'нетиповий' запис\n",
    "cond = data['native-country'].str.contains('Holand-Netherlands')\n",
    "data = data.drop(data[cond].index)\n",
    "data = data.drop(columns=['education-num'])"
   ]
  },
  {
   "cell_type": "code",
   "execution_count": 104,
   "id": "47a0e88f",
   "metadata": {
    "slideshow": {
     "slide_type": "subslide"
    }
   },
   "outputs": [
    {
     "data": {
      "text/plain": [
       "race\n",
       " White                 41761\n",
       " Black                  4685\n",
       " Asian-Pac-Islander     1519\n",
       " Amer-Indian-Eskimo      470\n",
       " Other                   406\n",
       "Name: race, dtype: int64"
      ]
     },
     "execution_count": 104,
     "metadata": {},
     "output_type": "execute_result"
    }
   ],
   "source": [
    "# вивести назви та кількість класів в покажчику 'race'\n",
    "df_races = data.groupby(by='race')['race'].count().sort_values(ascending=False)\n",
    "df_races"
   ]
  },
  {
   "cell_type": "code",
   "execution_count": 105,
   "id": "a6544c2b",
   "metadata": {
    "code_folding": [],
    "slideshow": {
     "slide_type": "subslide"
    }
   },
   "outputs": [
    {
     "data": {
      "image/png": "[encoded data removed]",
      "text/plain": [
       "<Figure size 640x480 with 1 Axes>"
      ]
     },
     "metadata": {},
     "output_type": "display_data"
    }
   ],
   "source": [
    "import matplotlib.pyplot as plt\n",
    "\n",
    "with plt.style.context('ggplot'):\n",
    "    df_races.plot(kind='bar', rot=45, alpha=.7, color='green')\n",
    "\n",
    "    plt.title('Прорівняння кількості спостережень по расам')\n",
    "    plt.xlabel('раси')\n",
    "    plt.ylabel('кількість')\n",
    "\n",
    "    plt.show()\n"
   ]
  },
  {
   "cell_type": "markdown",
   "id": "c953aa7b",
   "metadata": {
    "slideshow": {
     "slide_type": "subslide"
    }
   },
   "source": [
    "#### Підготувати датасет"
   ]
  },
  {
   "cell_type": "code",
   "execution_count": 106,
   "id": "371add50",
   "metadata": {
    "slideshow": {
     "slide_type": "subslide"
    }
   },
   "outputs": [
    {
     "name": "stdout",
     "output_type": "stream",
     "text": [
      "<class 'pandas.core.frame.DataFrame'>\n",
      "Int64Index: 48841 entries, 0 to 48841\n",
      "Data columns (total 13 columns):\n",
      " #   Column          Non-Null Count  Dtype \n",
      "---  ------          --------------  ----- \n",
      " 0   age             48841 non-null  int64 \n",
      " 1   workclass       48841 non-null  object\n",
      " 2   education       48841 non-null  object\n",
      " 3   marital-status  48841 non-null  object\n",
      " 4   occupation      48841 non-null  object\n",
      " 5   relationship    48841 non-null  object\n",
      " 6   race            48841 non-null  object\n",
      " 7   sex             48841 non-null  object\n",
      " 8   capital-gain    48841 non-null  int64 \n",
      " 9   capital-loss    48841 non-null  int64 \n",
      " 10  hours-per-week  48841 non-null  int64 \n",
      " 11  native-country  48841 non-null  object\n",
      " 12  class           48841 non-null  object\n",
      "dtypes: int64(4), object(9)\n",
      "memory usage: 5.2+ MB\n"
     ]
    }
   ],
   "source": [
    "data.info()"
   ]
  },
  {
   "cell_type": "code",
   "execution_count": 107,
   "id": "b5dcfd25",
   "metadata": {
    "slideshow": {
     "slide_type": "subslide"
    }
   },
   "outputs": [
    {
     "data": {
      "text/plain": [
       "((48841, 12), (48841,))"
      ]
     },
     "execution_count": 107,
     "metadata": {},
     "output_type": "execute_result"
    }
   ],
   "source": [
    "target = data['race']\n",
    "data = data.drop(columns=['race'])\n",
    "data.shape, target.shape"
   ]
  },
  {
   "cell_type": "code",
   "execution_count": 108,
   "id": "89fd63dd",
   "metadata": {
    "slideshow": {
     "slide_type": "subslide"
    }
   },
   "outputs": [
    {
     "data": {
      "text/plain": [
       "(['workclass',\n",
       "  'education',\n",
       "  'marital-status',\n",
       "  'occupation',\n",
       "  'relationship',\n",
       "  'sex',\n",
       "  'native-country',\n",
       "  'class'],\n",
       " ['age', 'capital-gain', 'capital-loss', 'hours-per-week'])"
      ]
     },
     "execution_count": 108,
     "metadata": {},
     "output_type": "execute_result"
    }
   ],
   "source": [
    "from sklearn.compose import make_column_selector\n",
    "cat_selector = make_column_selector(dtype_include='object')\n",
    "category_columns = cat_selector(data)\n",
    "num_selector = make_column_selector(dtype_exclude='object')\n",
    "numeric_columns = num_selector(data)\n",
    "\n",
    "category_columns, numeric_columns"
   ]
  },
  {
   "cell_type": "code",
   "execution_count": 109,
   "id": "6854b45d",
   "metadata": {
    "slideshow": {
     "slide_type": "subslide"
    }
   },
   "outputs": [
    {
     "data": {
      "text/html": [
       "<div>\n",
       "<style scoped>\n",
       "    .dataframe tbody tr th:only-of-type {\n",
       "        vertical-align: middle;\n",
       "    }\n",
       "\n",
       "    .dataframe tbody tr th {\n",
       "        vertical-align: top;\n",
       "    }\n",
       "\n",
       "    .dataframe thead th {\n",
       "        text-align: right;\n",
       "    }\n",
       "</style>\n",
       "<table border=\"1\" class=\"dataframe\">\n",
       "  <thead>\n",
       "    <tr style=\"text-align: right;\">\n",
       "      <th></th>\n",
       "      <th>workclass_ ?</th>\n",
       "      <th>workclass_ Federal-gov</th>\n",
       "      <th>workclass_ Local-gov</th>\n",
       "      <th>workclass_ Never-worked</th>\n",
       "      <th>workclass_ Private</th>\n",
       "      <th>workclass_ Self-emp-inc</th>\n",
       "      <th>workclass_ Self-emp-not-inc</th>\n",
       "      <th>workclass_ State-gov</th>\n",
       "      <th>workclass_ Without-pay</th>\n",
       "      <th>education_ 10th</th>\n",
       "      <th>...</th>\n",
       "      <th>native-country_ Scotland</th>\n",
       "      <th>native-country_ South</th>\n",
       "      <th>native-country_ Taiwan</th>\n",
       "      <th>native-country_ Thailand</th>\n",
       "      <th>native-country_ Trinadad&amp;Tobago</th>\n",
       "      <th>native-country_ United-States</th>\n",
       "      <th>native-country_ Vietnam</th>\n",
       "      <th>native-country_ Yugoslavia</th>\n",
       "      <th>class_ &lt;=50K</th>\n",
       "      <th>class_ &gt;50K</th>\n",
       "    </tr>\n",
       "  </thead>\n",
       "  <tbody>\n",
       "    <tr>\n",
       "      <th>0</th>\n",
       "      <td>0.0</td>\n",
       "      <td>0.0</td>\n",
       "      <td>0.0</td>\n",
       "      <td>0.0</td>\n",
       "      <td>1.0</td>\n",
       "      <td>0.0</td>\n",
       "      <td>0.0</td>\n",
       "      <td>0.0</td>\n",
       "      <td>0.0</td>\n",
       "      <td>0.0</td>\n",
       "      <td>...</td>\n",
       "      <td>0.0</td>\n",
       "      <td>0.0</td>\n",
       "      <td>0.0</td>\n",
       "      <td>0.0</td>\n",
       "      <td>0.0</td>\n",
       "      <td>1.0</td>\n",
       "      <td>0.0</td>\n",
       "      <td>0.0</td>\n",
       "      <td>1.0</td>\n",
       "      <td>0.0</td>\n",
       "    </tr>\n",
       "    <tr>\n",
       "      <th>1</th>\n",
       "      <td>0.0</td>\n",
       "      <td>0.0</td>\n",
       "      <td>0.0</td>\n",
       "      <td>0.0</td>\n",
       "      <td>1.0</td>\n",
       "      <td>0.0</td>\n",
       "      <td>0.0</td>\n",
       "      <td>0.0</td>\n",
       "      <td>0.0</td>\n",
       "      <td>0.0</td>\n",
       "      <td>...</td>\n",
       "      <td>0.0</td>\n",
       "      <td>0.0</td>\n",
       "      <td>0.0</td>\n",
       "      <td>0.0</td>\n",
       "      <td>0.0</td>\n",
       "      <td>1.0</td>\n",
       "      <td>0.0</td>\n",
       "      <td>0.0</td>\n",
       "      <td>1.0</td>\n",
       "      <td>0.0</td>\n",
       "    </tr>\n",
       "    <tr>\n",
       "      <th>2</th>\n",
       "      <td>0.0</td>\n",
       "      <td>0.0</td>\n",
       "      <td>1.0</td>\n",
       "      <td>0.0</td>\n",
       "      <td>0.0</td>\n",
       "      <td>0.0</td>\n",
       "      <td>0.0</td>\n",
       "      <td>0.0</td>\n",
       "      <td>0.0</td>\n",
       "      <td>0.0</td>\n",
       "      <td>...</td>\n",
       "      <td>0.0</td>\n",
       "      <td>0.0</td>\n",
       "      <td>0.0</td>\n",
       "      <td>0.0</td>\n",
       "      <td>0.0</td>\n",
       "      <td>1.0</td>\n",
       "      <td>0.0</td>\n",
       "      <td>0.0</td>\n",
       "      <td>0.0</td>\n",
       "      <td>1.0</td>\n",
       "    </tr>\n",
       "  </tbody>\n",
       "</table>\n",
       "<p>3 rows × 98 columns</p>\n",
       "</div>"
      ],
      "text/plain": [
       "   workclass_ ?  workclass_ Federal-gov  workclass_ Local-gov  \\\n",
       "0           0.0                     0.0                   0.0   \n",
       "1           0.0                     0.0                   0.0   \n",
       "2           0.0                     0.0                   1.0   \n",
       "\n",
       "   workclass_ Never-worked  workclass_ Private  workclass_ Self-emp-inc  \\\n",
       "0                      0.0                 1.0                      0.0   \n",
       "1                      0.0                 1.0                      0.0   \n",
       "2                      0.0                 0.0                      0.0   \n",
       "\n",
       "   workclass_ Self-emp-not-inc  workclass_ State-gov  workclass_ Without-pay  \\\n",
       "0                          0.0                   0.0                     0.0   \n",
       "1                          0.0                   0.0                     0.0   \n",
       "2                          0.0                   0.0                     0.0   \n",
       "\n",
       "   education_ 10th  ...  native-country_ Scotland  native-country_ South  \\\n",
       "0              0.0  ...                       0.0                    0.0   \n",
       "1              0.0  ...                       0.0                    0.0   \n",
       "2              0.0  ...                       0.0                    0.0   \n",
       "\n",
       "   native-country_ Taiwan  native-country_ Thailand  \\\n",
       "0                     0.0                       0.0   \n",
       "1                     0.0                       0.0   \n",
       "2                     0.0                       0.0   \n",
       "\n",
       "   native-country_ Trinadad&Tobago  native-country_ United-States  \\\n",
       "0                              0.0                            1.0   \n",
       "1                              0.0                            1.0   \n",
       "2                              0.0                            1.0   \n",
       "\n",
       "   native-country_ Vietnam  native-country_ Yugoslavia  class_ <=50K  \\\n",
       "0                      0.0                         0.0           1.0   \n",
       "1                      0.0                         0.0           1.0   \n",
       "2                      0.0                         0.0           0.0   \n",
       "\n",
       "   class_ >50K  \n",
       "0          0.0  \n",
       "1          0.0  \n",
       "2          1.0  \n",
       "\n",
       "[3 rows x 98 columns]"
      ]
     },
     "execution_count": 109,
     "metadata": {},
     "output_type": "execute_result"
    }
   ],
   "source": [
    "from sklearn.preprocessing import OneHotEncoder\n",
    "\n",
    "encoder = OneHotEncoder(handle_unknown='ignore')\n",
    "data_encoded = encoder.fit_transform(data[category_columns])\n",
    "df_encoded = pd.DataFrame(data_encoded.toarray())\n",
    "df_encoded.columns=encoder.get_feature_names_out()\n",
    "df_encoded.head(3)"
   ]
  },
  {
   "cell_type": "code",
   "execution_count": 110,
   "id": "3cdf57e0",
   "metadata": {
    "slideshow": {
     "slide_type": "subslide"
    }
   },
   "outputs": [
    {
     "data": {
      "text/html": [
       "<div>\n",
       "<style scoped>\n",
       "    .dataframe tbody tr th:only-of-type {\n",
       "        vertical-align: middle;\n",
       "    }\n",
       "\n",
       "    .dataframe tbody tr th {\n",
       "        vertical-align: top;\n",
       "    }\n",
       "\n",
       "    .dataframe thead th {\n",
       "        text-align: right;\n",
       "    }\n",
       "</style>\n",
       "<table border=\"1\" class=\"dataframe\">\n",
       "  <thead>\n",
       "    <tr style=\"text-align: right;\">\n",
       "      <th></th>\n",
       "      <th>age</th>\n",
       "      <th>capital-gain</th>\n",
       "      <th>capital-loss</th>\n",
       "      <th>hours-per-week</th>\n",
       "    </tr>\n",
       "  </thead>\n",
       "  <tbody>\n",
       "    <tr>\n",
       "      <th>0</th>\n",
       "      <td>-0.995131</td>\n",
       "      <td>-0.144805</td>\n",
       "      <td>-0.217079</td>\n",
       "      <td>-0.034087</td>\n",
       "    </tr>\n",
       "    <tr>\n",
       "      <th>1</th>\n",
       "      <td>-0.046951</td>\n",
       "      <td>-0.144805</td>\n",
       "      <td>-0.217079</td>\n",
       "      <td>0.772921</td>\n",
       "    </tr>\n",
       "    <tr>\n",
       "      <th>2</th>\n",
       "      <td>-0.776320</td>\n",
       "      <td>-0.144805</td>\n",
       "      <td>-0.217079</td>\n",
       "      <td>-0.034087</td>\n",
       "    </tr>\n",
       "    <tr>\n",
       "      <th>3</th>\n",
       "      <td>0.390670</td>\n",
       "      <td>0.886862</td>\n",
       "      <td>-0.217079</td>\n",
       "      <td>-0.034087</td>\n",
       "    </tr>\n",
       "    <tr>\n",
       "      <th>4</th>\n",
       "      <td>-1.505690</td>\n",
       "      <td>-0.144805</td>\n",
       "      <td>-0.217079</td>\n",
       "      <td>-0.841096</td>\n",
       "    </tr>\n",
       "  </tbody>\n",
       "</table>\n",
       "</div>"
      ],
      "text/plain": [
       "        age  capital-gain  capital-loss  hours-per-week\n",
       "0 -0.995131     -0.144805     -0.217079       -0.034087\n",
       "1 -0.046951     -0.144805     -0.217079        0.772921\n",
       "2 -0.776320     -0.144805     -0.217079       -0.034087\n",
       "3  0.390670      0.886862     -0.217079       -0.034087\n",
       "4 -1.505690     -0.144805     -0.217079       -0.841096"
      ]
     },
     "execution_count": 110,
     "metadata": {},
     "output_type": "execute_result"
    }
   ],
   "source": [
    "from sklearn.preprocessing import StandardScaler\n",
    "scaler = StandardScaler()\n",
    "data_scaled = scaler.fit_transform(data[numeric_columns])\n",
    "df_scaled = pd.DataFrame(data_scaled, columns=scaler.get_feature_names_out())\n",
    "df_scaled.head()"
   ]
  },
  {
   "cell_type": "code",
   "execution_count": 111,
   "id": "57cc5383",
   "metadata": {
    "slideshow": {
     "slide_type": "subslide"
    }
   },
   "outputs": [
    {
     "data": {
      "text/html": [
       "<div>\n",
       "<style scoped>\n",
       "    .dataframe tbody tr th:only-of-type {\n",
       "        vertical-align: middle;\n",
       "    }\n",
       "\n",
       "    .dataframe tbody tr th {\n",
       "        vertical-align: top;\n",
       "    }\n",
       "\n",
       "    .dataframe thead th {\n",
       "        text-align: right;\n",
       "    }\n",
       "</style>\n",
       "<table border=\"1\" class=\"dataframe\">\n",
       "  <thead>\n",
       "    <tr style=\"text-align: right;\">\n",
       "      <th></th>\n",
       "      <th>значення цільової змінної</th>\n",
       "      <th>призначений клас</th>\n",
       "    </tr>\n",
       "  </thead>\n",
       "  <tbody>\n",
       "    <tr>\n",
       "      <th>0</th>\n",
       "      <td>Amer-Indian-Eskimo</td>\n",
       "      <td>0</td>\n",
       "    </tr>\n",
       "    <tr>\n",
       "      <th>1</th>\n",
       "      <td>Asian-Pac-Islander</td>\n",
       "      <td>1</td>\n",
       "    </tr>\n",
       "    <tr>\n",
       "      <th>2</th>\n",
       "      <td>Black</td>\n",
       "      <td>2</td>\n",
       "    </tr>\n",
       "    <tr>\n",
       "      <th>3</th>\n",
       "      <td>Other</td>\n",
       "      <td>3</td>\n",
       "    </tr>\n",
       "    <tr>\n",
       "      <th>4</th>\n",
       "      <td>White</td>\n",
       "      <td>4</td>\n",
       "    </tr>\n",
       "  </tbody>\n",
       "</table>\n",
       "</div>"
      ],
      "text/plain": [
       "  значення цільової змінної  призначений клас\n",
       "0        Amer-Indian-Eskimo                 0\n",
       "1        Asian-Pac-Islander                 1\n",
       "2                     Black                 2\n",
       "3                     Other                 3\n",
       "4                     White                 4"
      ]
     },
     "execution_count": 111,
     "metadata": {},
     "output_type": "execute_result"
    }
   ],
   "source": [
    "from sklearn.preprocessing import LabelEncoder\n",
    "label_encoder =  LabelEncoder()\n",
    "target_encoded = label_encoder.fit_transform(target)\n",
    "classes_names = label_encoder.classes_\n",
    "classes_codes = [i[0] for i in enumerate(classes_names)]\n",
    "pd.DataFrame({'значення цільової змінної': classes_names,\n",
    "             'призначений клас': classes_codes })"
   ]
  },
  {
   "cell_type": "code",
   "execution_count": 112,
   "id": "b058ebeb",
   "metadata": {
    "slideshow": {
     "slide_type": "subslide"
    }
   },
   "outputs": [
    {
     "data": {
      "text/plain": [
       "((48841, 102), (48841,))"
      ]
     },
     "execution_count": 112,
     "metadata": {},
     "output_type": "execute_result"
    }
   ],
   "source": [
    "data = pd.concat([df_scaled, df_encoded], axis=1)\n",
    "target = target_encoded\n",
    "data.shape, target.shape"
   ]
  },
  {
   "cell_type": "code",
   "execution_count": 113,
   "id": "06bb66e4",
   "metadata": {
    "scrolled": true,
    "slideshow": {
     "slide_type": "subslide"
    }
   },
   "outputs": [
    {
     "data": {
      "text/html": [
       "<div>\n",
       "<style scoped>\n",
       "    .dataframe tbody tr th:only-of-type {\n",
       "        vertical-align: middle;\n",
       "    }\n",
       "\n",
       "    .dataframe tbody tr th {\n",
       "        vertical-align: top;\n",
       "    }\n",
       "\n",
       "    .dataframe thead th {\n",
       "        text-align: right;\n",
       "    }\n",
       "</style>\n",
       "<table border=\"1\" class=\"dataframe\">\n",
       "  <thead>\n",
       "    <tr style=\"text-align: right;\">\n",
       "      <th></th>\n",
       "      <th>age</th>\n",
       "      <th>capital-gain</th>\n",
       "      <th>capital-loss</th>\n",
       "      <th>hours-per-week</th>\n",
       "      <th>workclass_ ?</th>\n",
       "      <th>workclass_ Federal-gov</th>\n",
       "      <th>workclass_ Local-gov</th>\n",
       "      <th>workclass_ Never-worked</th>\n",
       "      <th>workclass_ Private</th>\n",
       "      <th>workclass_ Self-emp-inc</th>\n",
       "      <th>...</th>\n",
       "      <th>native-country_ Scotland</th>\n",
       "      <th>native-country_ South</th>\n",
       "      <th>native-country_ Taiwan</th>\n",
       "      <th>native-country_ Thailand</th>\n",
       "      <th>native-country_ Trinadad&amp;Tobago</th>\n",
       "      <th>native-country_ United-States</th>\n",
       "      <th>native-country_ Vietnam</th>\n",
       "      <th>native-country_ Yugoslavia</th>\n",
       "      <th>class_ &lt;=50K</th>\n",
       "      <th>class_ &gt;50K</th>\n",
       "    </tr>\n",
       "  </thead>\n",
       "  <tbody>\n",
       "    <tr>\n",
       "      <th>0</th>\n",
       "      <td>-0.995131</td>\n",
       "      <td>-0.144805</td>\n",
       "      <td>-0.217079</td>\n",
       "      <td>-0.034087</td>\n",
       "      <td>0.0</td>\n",
       "      <td>0.0</td>\n",
       "      <td>0.0</td>\n",
       "      <td>0.0</td>\n",
       "      <td>1.0</td>\n",
       "      <td>0.0</td>\n",
       "      <td>...</td>\n",
       "      <td>0.0</td>\n",
       "      <td>0.0</td>\n",
       "      <td>0.0</td>\n",
       "      <td>0.0</td>\n",
       "      <td>0.0</td>\n",
       "      <td>1.0</td>\n",
       "      <td>0.0</td>\n",
       "      <td>0.0</td>\n",
       "      <td>1.0</td>\n",
       "      <td>0.0</td>\n",
       "    </tr>\n",
       "    <tr>\n",
       "      <th>1</th>\n",
       "      <td>-0.046951</td>\n",
       "      <td>-0.144805</td>\n",
       "      <td>-0.217079</td>\n",
       "      <td>0.772921</td>\n",
       "      <td>0.0</td>\n",
       "      <td>0.0</td>\n",
       "      <td>0.0</td>\n",
       "      <td>0.0</td>\n",
       "      <td>1.0</td>\n",
       "      <td>0.0</td>\n",
       "      <td>...</td>\n",
       "      <td>0.0</td>\n",
       "      <td>0.0</td>\n",
       "      <td>0.0</td>\n",
       "      <td>0.0</td>\n",
       "      <td>0.0</td>\n",
       "      <td>1.0</td>\n",
       "      <td>0.0</td>\n",
       "      <td>0.0</td>\n",
       "      <td>1.0</td>\n",
       "      <td>0.0</td>\n",
       "    </tr>\n",
       "    <tr>\n",
       "      <th>2</th>\n",
       "      <td>-0.776320</td>\n",
       "      <td>-0.144805</td>\n",
       "      <td>-0.217079</td>\n",
       "      <td>-0.034087</td>\n",
       "      <td>0.0</td>\n",
       "      <td>0.0</td>\n",
       "      <td>1.0</td>\n",
       "      <td>0.0</td>\n",
       "      <td>0.0</td>\n",
       "      <td>0.0</td>\n",
       "      <td>...</td>\n",
       "      <td>0.0</td>\n",
       "      <td>0.0</td>\n",
       "      <td>0.0</td>\n",
       "      <td>0.0</td>\n",
       "      <td>0.0</td>\n",
       "      <td>1.0</td>\n",
       "      <td>0.0</td>\n",
       "      <td>0.0</td>\n",
       "      <td>0.0</td>\n",
       "      <td>1.0</td>\n",
       "    </tr>\n",
       "    <tr>\n",
       "      <th>3</th>\n",
       "      <td>0.390670</td>\n",
       "      <td>0.886862</td>\n",
       "      <td>-0.217079</td>\n",
       "      <td>-0.034087</td>\n",
       "      <td>0.0</td>\n",
       "      <td>0.0</td>\n",
       "      <td>0.0</td>\n",
       "      <td>0.0</td>\n",
       "      <td>1.0</td>\n",
       "      <td>0.0</td>\n",
       "      <td>...</td>\n",
       "      <td>0.0</td>\n",
       "      <td>0.0</td>\n",
       "      <td>0.0</td>\n",
       "      <td>0.0</td>\n",
       "      <td>0.0</td>\n",
       "      <td>1.0</td>\n",
       "      <td>0.0</td>\n",
       "      <td>0.0</td>\n",
       "      <td>0.0</td>\n",
       "      <td>1.0</td>\n",
       "    </tr>\n",
       "    <tr>\n",
       "      <th>4</th>\n",
       "      <td>-1.505690</td>\n",
       "      <td>-0.144805</td>\n",
       "      <td>-0.217079</td>\n",
       "      <td>-0.841096</td>\n",
       "      <td>1.0</td>\n",
       "      <td>0.0</td>\n",
       "      <td>0.0</td>\n",
       "      <td>0.0</td>\n",
       "      <td>0.0</td>\n",
       "      <td>0.0</td>\n",
       "      <td>...</td>\n",
       "      <td>0.0</td>\n",
       "      <td>0.0</td>\n",
       "      <td>0.0</td>\n",
       "      <td>0.0</td>\n",
       "      <td>0.0</td>\n",
       "      <td>1.0</td>\n",
       "      <td>0.0</td>\n",
       "      <td>0.0</td>\n",
       "      <td>1.0</td>\n",
       "      <td>0.0</td>\n",
       "    </tr>\n",
       "  </tbody>\n",
       "</table>\n",
       "<p>5 rows × 102 columns</p>\n",
       "</div>"
      ],
      "text/plain": [
       "        age  capital-gain  capital-loss  hours-per-week  workclass_ ?  \\\n",
       "0 -0.995131     -0.144805     -0.217079       -0.034087           0.0   \n",
       "1 -0.046951     -0.144805     -0.217079        0.772921           0.0   \n",
       "2 -0.776320     -0.144805     -0.217079       -0.034087           0.0   \n",
       "3  0.390670      0.886862     -0.217079       -0.034087           0.0   \n",
       "4 -1.505690     -0.144805     -0.217079       -0.841096           1.0   \n",
       "\n",
       "   workclass_ Federal-gov  workclass_ Local-gov  workclass_ Never-worked  \\\n",
       "0                     0.0                   0.0                      0.0   \n",
       "1                     0.0                   0.0                      0.0   \n",
       "2                     0.0                   1.0                      0.0   \n",
       "3                     0.0                   0.0                      0.0   \n",
       "4                     0.0                   0.0                      0.0   \n",
       "\n",
       "   workclass_ Private  workclass_ Self-emp-inc  ...  native-country_ Scotland  \\\n",
       "0                 1.0                      0.0  ...                       0.0   \n",
       "1                 1.0                      0.0  ...                       0.0   \n",
       "2                 0.0                      0.0  ...                       0.0   \n",
       "3                 1.0                      0.0  ...                       0.0   \n",
       "4                 0.0                      0.0  ...                       0.0   \n",
       "\n",
       "   native-country_ South  native-country_ Taiwan  native-country_ Thailand  \\\n",
       "0                    0.0                     0.0                       0.0   \n",
       "1                    0.0                     0.0                       0.0   \n",
       "2                    0.0                     0.0                       0.0   \n",
       "3                    0.0                     0.0                       0.0   \n",
       "4                    0.0                     0.0                       0.0   \n",
       "\n",
       "   native-country_ Trinadad&Tobago  native-country_ United-States  \\\n",
       "0                              0.0                            1.0   \n",
       "1                              0.0                            1.0   \n",
       "2                              0.0                            1.0   \n",
       "3                              0.0                            1.0   \n",
       "4                              0.0                            1.0   \n",
       "\n",
       "   native-country_ Vietnam  native-country_ Yugoslavia  class_ <=50K  \\\n",
       "0                      0.0                         0.0           1.0   \n",
       "1                      0.0                         0.0           1.0   \n",
       "2                      0.0                         0.0           0.0   \n",
       "3                      0.0                         0.0           0.0   \n",
       "4                      0.0                         0.0           1.0   \n",
       "\n",
       "   class_ >50K  \n",
       "0          0.0  \n",
       "1          0.0  \n",
       "2          1.0  \n",
       "3          1.0  \n",
       "4          0.0  \n",
       "\n",
       "[5 rows x 102 columns]"
      ]
     },
     "execution_count": 113,
     "metadata": {},
     "output_type": "execute_result"
    }
   ],
   "source": [
    "data.head()"
   ]
  },
  {
   "cell_type": "markdown",
   "id": "1bb7b817",
   "metadata": {
    "slideshow": {
     "slide_type": "slide"
    }
   },
   "source": [
    "#### Побудува SVM-моделі"
   ]
  },
  {
   "cell_type": "code",
   "execution_count": 114,
   "id": "da48176c",
   "metadata": {
    "slideshow": {
     "slide_type": "subslide"
    }
   },
   "outputs": [],
   "source": [
    "from sklearn.svm import SVC\n",
    "# SVC?\n",
    "from sklearn.model_selection import KFold\n",
    "from sklearn.model_selection import GridSearchCV, RandomizedSearchCV\n",
    "from sklearn.metrics import accuracy_score, balanced_accuracy_score"
   ]
  },
  {
   "cell_type": "code",
   "execution_count": 115,
   "id": "f872102c",
   "metadata": {
    "slideshow": {
     "slide_type": "subslide"
    }
   },
   "outputs": [],
   "source": [
    "#  розділення датасетів\n",
    "data_chunk = data[:1000]\n",
    "target_chunk = target[:1000]"
   ]
  },
  {
   "cell_type": "code",
   "execution_count": 116,
   "id": "759b3979",
   "metadata": {
    "slideshow": {
     "slide_type": "subslide"
    }
   },
   "outputs": [
    {
     "data": {
      "text/plain": [
       "{'C': 1.0,\n",
       " 'break_ties': False,\n",
       " 'cache_size': 200,\n",
       " 'class_weight': None,\n",
       " 'coef0': 0.0,\n",
       " 'decision_function_shape': 'ovr',\n",
       " 'degree': 3,\n",
       " 'gamma': 'scale',\n",
       " 'kernel': 'rbf',\n",
       " 'max_iter': -1,\n",
       " 'probability': False,\n",
       " 'random_state': None,\n",
       " 'shrinking': True,\n",
       " 'tol': 0.001,\n",
       " 'verbose': False}"
      ]
     },
     "execution_count": 116,
     "metadata": {},
     "output_type": "execute_result"
    }
   ],
   "source": [
    "# побудова svm-класифікатора\n",
    "svm_classifier = SVC()\n",
    "svm_classifier.get_params()"
   ]
  },
  {
   "cell_type": "code",
   "execution_count": 117,
   "id": "95a23dfa",
   "metadata": {
    "slideshow": {
     "slide_type": "subslide"
    }
   },
   "outputs": [],
   "source": [
    "# побудова макету сітки пошуку\n",
    "grid_params = {\n",
    "    \"C\" : [.01, 1, 10],\n",
    "    \"kernel\": ['linear', 'rbf', 'poly', 'sigmoid']\n",
    "}"
   ]
  },
  {
   "cell_type": "code",
   "execution_count": 118,
   "id": "1bf19982",
   "metadata": {
    "slideshow": {
     "slide_type": "fragment"
    }
   },
   "outputs": [],
   "source": [
    "# настроювання параметрів крос-валідації\n",
    "cv = KFold(shuffle=True, random_state=42)"
   ]
  },
  {
   "cell_type": "code",
   "execution_count": 119,
   "id": "bc3c4ba1",
   "metadata": {
    "slideshow": {
     "slide_type": "subslide"
    }
   },
   "outputs": [],
   "source": [
    "# побудова валідотора\n",
    "gs_model = GridSearchCV(svm_classifier, param_grid=grid_params,\n",
    "                        cv=cv, return_train_score=True)"
   ]
  },
  {
   "cell_type": "code",
   "execution_count": 120,
   "id": "d532b4c9",
   "metadata": {
    "slideshow": {
     "slide_type": "fragment"
    }
   },
   "outputs": [
    {
     "name": "stdout",
     "output_type": "stream",
     "text": [
      "CPU times: user 4.93 s, sys: 18.7 ms, total: 4.94 s\n",
      "Wall time: 4.97 s\n"
     ]
    }
   ],
   "source": [
    "%%time\n",
    "\n",
    "# тренуемо модель на пошуковій сітці\n",
    "_ = gs_model.fit(data_chunk, target_chunk)"
   ]
  },
  {
   "cell_type": "code",
   "execution_count": 121,
   "id": "31d31586",
   "metadata": {
    "slideshow": {
     "slide_type": "subslide"
    }
   },
   "outputs": [
    {
     "name": "stdout",
     "output_type": "stream",
     "text": [
      "{'C': 1, 'kernel': 'linear'} SVC(C=1, kernel='linear') 0.8619999999999999\n"
     ]
    }
   ],
   "source": [
    "# найкращі параметри\n",
    "print (gs_model.best_params_, gs_model.best_estimator_, gs_model.best_score_)"
   ]
  },
  {
   "cell_type": "code",
   "execution_count": 122,
   "id": "7524688b",
   "metadata": {
    "slideshow": {
     "slide_type": "subslide"
    }
   },
   "outputs": [
    {
     "name": "stdout",
     "output_type": "stream",
     "text": [
      "CPU times: user 95.9 ms, sys: 2.91 ms, total: 98.8 ms\n",
      "Wall time: 97.8 ms\n"
     ]
    }
   ],
   "source": [
    "%%time\n",
    "\n",
    "# навчаємо класифікатор на кращих параметрах\n",
    "best_classifier = gs_model.best_estimator_\n",
    "best_classifier.fit(data_chunk, target_chunk)\n",
    "target_pred = best_classifier.predict(data_chunk)"
   ]
  },
  {
   "cell_type": "markdown",
   "id": "5145a7a8",
   "metadata": {
    "slideshow": {
     "slide_type": "slide"
    }
   },
   "source": [
    "#### Оцінка SVM-моделі"
   ]
  },
  {
   "cell_type": "markdown",
   "id": "d1b825f8",
   "metadata": {
    "slideshow": {
     "slide_type": "slide"
    }
   },
   "source": [
    "- __'РУЧНИЙ' МЕТОД__:"
   ]
  },
  {
   "cell_type": "code",
   "execution_count": 123,
   "id": "4efdeba8",
   "metadata": {
    "slideshow": {
     "slide_type": "subslide"
    }
   },
   "outputs": [],
   "source": [
    "from sklearn.metrics import balanced_accuracy_score, precision_score, \\\n",
    "                            recall_score, f1_score, confusion_matrix"
   ]
  },
  {
   "cell_type": "code",
   "execution_count": 124,
   "id": "da38146f",
   "metadata": {
    "slideshow": {
     "slide_type": "subslide"
    }
   },
   "outputs": [
    {
     "data": {
      "text/html": [
       "<div>\n",
       "<style scoped>\n",
       "    .dataframe tbody tr th:only-of-type {\n",
       "        vertical-align: middle;\n",
       "    }\n",
       "\n",
       "    .dataframe tbody tr th {\n",
       "        vertical-align: top;\n",
       "    }\n",
       "\n",
       "    .dataframe thead th {\n",
       "        text-align: right;\n",
       "    }\n",
       "</style>\n",
       "<table border=\"1\" class=\"dataframe\">\n",
       "  <thead>\n",
       "    <tr style=\"text-align: right;\">\n",
       "      <th></th>\n",
       "      <th>Значення метрики</th>\n",
       "    </tr>\n",
       "  </thead>\n",
       "  <tbody>\n",
       "    <tr>\n",
       "      <th>accuracy</th>\n",
       "      <td>0.877</td>\n",
       "    </tr>\n",
       "    <tr>\n",
       "      <th>balanced accuracy</th>\n",
       "      <td>0.413</td>\n",
       "    </tr>\n",
       "    <tr>\n",
       "      <th>precision</th>\n",
       "      <td>0.766</td>\n",
       "    </tr>\n",
       "    <tr>\n",
       "      <th>recall</th>\n",
       "      <td>0.413</td>\n",
       "    </tr>\n",
       "    <tr>\n",
       "      <th>f1-зважене</th>\n",
       "      <td>0.454</td>\n",
       "    </tr>\n",
       "  </tbody>\n",
       "</table>\n",
       "</div>"
      ],
      "text/plain": [
       "                   Значення метрики\n",
       "accuracy                      0.877\n",
       "balanced accuracy             0.413\n",
       "precision                     0.766\n",
       "recall                        0.413\n",
       "f1-зважене                    0.454"
      ]
     },
     "execution_count": 124,
     "metadata": {},
     "output_type": "execute_result"
    }
   ],
   "source": [
    "# Показчики якості\n",
    "df_score = pd.DataFrame({\n",
    "    \"accuracy\":  [accuracy_score(target_chunk, target_pred)],\n",
    "    \"balanced accuracy\": [balanced_accuracy_score(target_chunk, target_pred)],\n",
    "    \"precision\": [precision_score(target_chunk, target_pred, average='macro', zero_division=0)],\n",
    "    \"recall\":    [recall_score(target_chunk, target_pred, average='macro', zero_division=0)],\n",
    "    \"f1-зважене\":        [f1_score(target_chunk, target_pred, average='macro', zero_division=0)],\n",
    "}, index=['Значення метрики'])\n",
    "df_score.T.round(3)"
   ]
  },
  {
   "cell_type": "markdown",
   "id": "07b17fe9",
   "metadata": {
    "slideshow": {
     "slide_type": "slide"
    }
   },
   "source": [
    "- __ВБУДОВАНИЙ МЕТОД__:"
   ]
  },
  {
   "cell_type": "code",
   "execution_count": 125,
   "id": "5ba6c940",
   "metadata": {
    "scrolled": true,
    "slideshow": {
     "slide_type": "subslide"
    }
   },
   "outputs": [
    {
     "name": "stdout",
     "output_type": "stream",
     "text": [
      "                     precision    recall  f1-score   support\n",
      "\n",
      " Amer-Indian-Eskimo       0.00      0.00      0.00         7\n",
      " Asian-Pac-Islander       0.95      0.75      0.84        28\n",
      "              Black       1.00      0.03      0.05       107\n",
      "              Other       1.00      0.29      0.44         7\n",
      "              White       0.87      1.00      0.93       851\n",
      "\n",
      "           accuracy                           0.88      1000\n",
      "          macro avg       0.77      0.41      0.45      1000\n",
      "       weighted avg       0.89      0.88      0.83      1000\n",
      "\n"
     ]
    }
   ],
   "source": [
    "from sklearn.metrics import classification_report\n",
    "print(classification_report(target_chunk, target_pred, target_names=classes_names, zero_division=0))"
   ]
  },
  {
   "cell_type": "markdown",
   "id": "0657daab",
   "metadata": {
    "slideshow": {
     "slide_type": "slide"
    }
   },
   "source": [
    "- __ГРАФО-АНАЛІТИЧНИЙ МЕТОД__:"
   ]
  },
  {
   "cell_type": "code",
   "execution_count": 126,
   "id": "175c5ec2",
   "metadata": {
    "slideshow": {
     "slide_type": "subslide"
    }
   },
   "outputs": [],
   "source": [
    "df_targets = pd.DataFrame([\n",
    "    classes_names[target_chunk], classes_names[target_pred]],\n",
    "    index=['реальне', 'зпрогнозоване']).T"
   ]
  },
  {
   "cell_type": "code",
   "execution_count": 127,
   "id": "1a3fe5b2",
   "metadata": {
    "slideshow": {
     "slide_type": "fragment"
    }
   },
   "outputs": [
    {
     "data": {
      "text/html": [
       "<div>\n",
       "<style scoped>\n",
       "    .dataframe tbody tr th:only-of-type {\n",
       "        vertical-align: middle;\n",
       "    }\n",
       "\n",
       "    .dataframe tbody tr th {\n",
       "        vertical-align: top;\n",
       "    }\n",
       "\n",
       "    .dataframe thead th {\n",
       "        text-align: right;\n",
       "    }\n",
       "</style>\n",
       "<table border=\"1\" class=\"dataframe\">\n",
       "  <thead>\n",
       "    <tr style=\"text-align: right;\">\n",
       "      <th></th>\n",
       "      <th>реальне</th>\n",
       "      <th>зпрогнозоване</th>\n",
       "    </tr>\n",
       "  </thead>\n",
       "  <tbody>\n",
       "    <tr>\n",
       "      <th>0</th>\n",
       "      <td>Black</td>\n",
       "      <td>White</td>\n",
       "    </tr>\n",
       "    <tr>\n",
       "      <th>1</th>\n",
       "      <td>White</td>\n",
       "      <td>White</td>\n",
       "    </tr>\n",
       "    <tr>\n",
       "      <th>2</th>\n",
       "      <td>White</td>\n",
       "      <td>White</td>\n",
       "    </tr>\n",
       "    <tr>\n",
       "      <th>3</th>\n",
       "      <td>Black</td>\n",
       "      <td>White</td>\n",
       "    </tr>\n",
       "    <tr>\n",
       "      <th>4</th>\n",
       "      <td>White</td>\n",
       "      <td>White</td>\n",
       "    </tr>\n",
       "  </tbody>\n",
       "</table>\n",
       "</div>"
      ],
      "text/plain": [
       "  реальне зпрогнозоване\n",
       "0   Black         White\n",
       "1   White         White\n",
       "2   White         White\n",
       "3   Black         White\n",
       "4   White         White"
      ]
     },
     "execution_count": 127,
     "metadata": {},
     "output_type": "execute_result"
    }
   ],
   "source": [
    "df_targets.head()"
   ]
  },
  {
   "cell_type": "code",
   "execution_count": 128,
   "id": "15ef4d6a",
   "metadata": {
    "code_folding": [],
    "slideshow": {
     "slide_type": "subslide"
    }
   },
   "outputs": [],
   "source": [
    "# будуємо аналітичну порівняльну таблицю\n",
    "comparision_table = pd.DataFrame(index=classes_names, columns=df_targets.columns)\n",
    "\n",
    "for class_name in classes_names:\n",
    "    comparision_table.loc[class_name, 'реальне'] = \\\n",
    "            df_targets[df_targets['реальне'] == class_name]['реальне'].count()\n",
    "    comparision_table.loc[class_name, 'зпрогнозоване'] = \\\n",
    "            df_targets[df_targets['зпрогнозоване'] == class_name]['зпрогнозоване'].count()"
   ]
  },
  {
   "cell_type": "code",
   "execution_count": 129,
   "id": "85b255e1",
   "metadata": {
    "slideshow": {
     "slide_type": "fragment"
    }
   },
   "outputs": [
    {
     "data": {
      "text/html": [
       "<div>\n",
       "<style scoped>\n",
       "    .dataframe tbody tr th:only-of-type {\n",
       "        vertical-align: middle;\n",
       "    }\n",
       "\n",
       "    .dataframe tbody tr th {\n",
       "        vertical-align: top;\n",
       "    }\n",
       "\n",
       "    .dataframe thead th {\n",
       "        text-align: right;\n",
       "    }\n",
       "</style>\n",
       "<table border=\"1\" class=\"dataframe\">\n",
       "  <thead>\n",
       "    <tr style=\"text-align: right;\">\n",
       "      <th></th>\n",
       "      <th>реальне</th>\n",
       "      <th>зпрогнозоване</th>\n",
       "      <th>достовірність.</th>\n",
       "    </tr>\n",
       "  </thead>\n",
       "  <tbody>\n",
       "    <tr>\n",
       "      <th>Amer-Indian-Eskimo</th>\n",
       "      <td>7</td>\n",
       "      <td>0</td>\n",
       "      <td>0.000</td>\n",
       "    </tr>\n",
       "    <tr>\n",
       "      <th>Asian-Pac-Islander</th>\n",
       "      <td>28</td>\n",
       "      <td>22</td>\n",
       "      <td>0.786</td>\n",
       "    </tr>\n",
       "    <tr>\n",
       "      <th>Black</th>\n",
       "      <td>107</td>\n",
       "      <td>3</td>\n",
       "      <td>0.028</td>\n",
       "    </tr>\n",
       "    <tr>\n",
       "      <th>Other</th>\n",
       "      <td>7</td>\n",
       "      <td>2</td>\n",
       "      <td>0.286</td>\n",
       "    </tr>\n",
       "    <tr>\n",
       "      <th>White</th>\n",
       "      <td>851</td>\n",
       "      <td>973</td>\n",
       "      <td>1.143</td>\n",
       "    </tr>\n",
       "  </tbody>\n",
       "</table>\n",
       "</div>"
      ],
      "text/plain": [
       "                    реальне зпрогнозоване  достовірність.\n",
       " Amer-Indian-Eskimo       7             0           0.000\n",
       " Asian-Pac-Islander      28            22           0.786\n",
       " Black                  107             3           0.028\n",
       " Other                    7             2           0.286\n",
       " White                  851           973           1.143"
      ]
     },
     "execution_count": 129,
     "metadata": {},
     "output_type": "execute_result"
    }
   ],
   "source": [
    "comparision_table['достовірність.'] = (comparision_table['зпрогнозоване'] / comparision_table['реальне']) \\\n",
    "                                      .astype(float).round(3)\n",
    "comparision_table"
   ]
  },
  {
   "cell_type": "code",
   "execution_count": 130,
   "id": "17aebd47",
   "metadata": {
    "code_folding": [],
    "slideshow": {
     "slide_type": "subslide"
    }
   },
   "outputs": [
    {
     "data": {
      "image/png": "[encoded data removed]",
      "text/plain": [
       "<Figure size 640x480 with 1 Axes>"
      ]
     },
     "metadata": {},
     "output_type": "display_data"
    }
   ],
   "source": [
    "with plt.style.context('ggplot'):\n",
    "    comparision_table.iloc[:, :2].plot(kind='bar', rot=45, alpha=.7)\n",
    "\n",
    "    plt.yscale('log')\n",
    "    plt.title('Прорівняння реальних та прогнозних\\n значень (логарифмоване)',\n",
    "              fontdict={'fontsize': 10})\n",
    "    plt.xlabel('раси')\n",
    "    plt.ylabel('кількість/коеф.достовірності', **{'fontsize': 10})\n",
    "\n",
    "    plt.show()\n"
   ]
  },
  {
   "cell_type": "markdown",
   "id": "ab2850e3",
   "metadata": {
    "slideshow": {
     "slide_type": "slide"
    }
   },
   "source": [
    "- __МАТРИЦЯ ПОМИЛОК__:"
   ]
  },
  {
   "cell_type": "code",
   "execution_count": 131,
   "id": "d330c42d",
   "metadata": {
    "scrolled": false,
    "slideshow": {
     "slide_type": "subslide"
    }
   },
   "outputs": [],
   "source": [
    "from sklearn.metrics import ConfusionMatrixDisplay\n",
    "import matplotlib.pyplot as plt\n",
    "\n",
    "def plot_cm(y, y_pred):\n",
    "    ConfusionMatrixDisplay.from_predictions(target_chunk, target_pred, display_labels=classes_names)\n",
    "    plt.xticks(rotation=45, ha='right')\n",
    "    plt.title(\"Матриця помилок\")\n",
    "    plt.xlabel(\"Кількість зпрогнозованих рас\")\n",
    "    plt.ylabel(\"\\nКількість істиних рас\")\n",
    "\n",
    "    plt.show()"
   ]
  },
  {
   "cell_type": "code",
   "execution_count": 132,
   "id": "2e273cf4",
   "metadata": {
    "code_folding": [],
    "slideshow": {
     "slide_type": "skip"
    }
   },
   "outputs": [
    {
     "data": {
      "image/png": "[encoded data removed]",
      "text/plain": [
       "<Figure size 640x480 with 2 Axes>"
      ]
     },
     "metadata": {},
     "output_type": "display_data"
    }
   ],
   "source": [
    "plot_cm(target_chunk, target_pred)"
   ]
  },
  {
   "cell_type": "markdown",
   "id": "eff4e4a2",
   "metadata": {
    "slideshow": {
     "slide_type": "subslide"
    }
   },
   "source": [
    "__Матриця плутанини/помилок__ допомагає візуалізувати якість моделі\n",
    "- _Діагональні елементи_ представляють кількість точок, для яких прогнозована мітка дорівнює істинній мітці\n",
    "- _Недіагональні елементи_ — це ті, які неправильно позначені класифікатором.\n",
    "\n",
    "Чим вищі діагональні значення матриці плутанини, тим краще"
   ]
  },
  {
   "cell_type": "markdown",
   "id": "8798cdb8",
   "metadata": {
    "slideshow": {
     "slide_type": "slide"
    }
   },
   "source": [
    "# ПИТАННЯ, ПРОПОЗИЦІЇ, ЗАУВАЖЕННЯ ?"
   ]
  }
 ],
 "metadata": {
  "celltoolbar": "Slideshow",
  "hide_input": false,
  "kernelspec": {
   "display_name": "Python 3 (ipykernel)",
   "language": "python",
   "name": "python3"
  },
  "language_info": {
   "codemirror_mode": {
    "name": "ipython",
    "version": 3
   },
   "file_extension": ".py",
   "mimetype": "text/x-python",
   "name": "python",
   "nbconvert_exporter": "python",
   "pygments_lexer": "ipython3",
   "version": "3.8.0"
  },
  "varInspector": {
   "cols": {
    "lenName": 16,
    "lenType": 16,
    "lenVar": 40
   },
   "kernels_config": {
    "python": {
     "delete_cmd_postfix": "",
     "delete_cmd_prefix": "del ",
     "library": "var_list.py",
     "varRefreshCmd": "print(var_dic_list())"
    },
    "r": {
     "delete_cmd_postfix": ") ",
     "delete_cmd_prefix": "rm(",
     "library": "var_list.r",
     "varRefreshCmd": "cat(var_dic_list()) "
    }
   },
   "types_to_exclude": [
    "module",
    "function",
    "builtin_function_or_method",
    "instance",
    "_Feature"
   ],
   "window_display": false
  }
 },
 "nbformat": 4,
 "nbformat_minor": 5
}
