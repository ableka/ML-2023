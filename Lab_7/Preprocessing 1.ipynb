{
 "cells": [
  {
   "cell_type": "markdown",
   "id": "400680a4",
   "metadata": {},
   "source": [
    "# ЛАБОРАТОРНА РОБОТА  \n",
    "\n",
    "## \"Алгоритми та моделі перетворення даних\"\n",
    "\n",
    "__Метою__ лабораторної роботи є набуття практичних навичок використання модулів бібліотеки `Scikit-learn` для вирішення наступних задач:\n",
    "\n",
    "- визначення та розподілення данних по їх типам\n",
    "- вибір та застосування алгоритмів перетворення різноманітних типів даних\n",
    "- настроювання параметрів та застосування трансформерів\n",
    "- побудова конвеєра для автоматизації процесів трансформації даних\n",
    "\n",
    "__Результатом__ виконання лабораторної роботи повинен стати датасет, в якому колонки з покажчиком перетворені під для навчання моделей"
   ]
  },
  {
   "cell_type": "code",
   "execution_count": 2,
   "id": "50098a89",
   "metadata": {},
   "outputs": [],
   "source": [
    "# імпортувати бібліотеки pandas та numpy\n",
    "import pandas as pd\n",
    "import numpy as np"
   ]
  },
  {
   "cell_type": "markdown",
   "id": "306ace06",
   "metadata": {},
   "source": [
    "## Завдання\n",
    "\n",
    "Вхідним датасетом є csv-файл, отриманий в результаті виконання лабораторної роботи по конструюванню та очищеню покажчиків даних про продажі квартир рієлторської компанії.\n",
    "\n",
    "<h4 style='background-color:cyan; color:red; padding:15px'><ul>\n",
    "    <li>замість `...` вписуйте Ваш програмний код\n",
    "    <li>не змінюйте імена запропонованих зміних\n",
    "    </ul>\n",
    "</h4>"
   ]
  },
  {
   "cell_type": "code",
   "execution_count": 3,
   "id": "4428c2d4",
   "metadata": {},
   "outputs": [
    {
     "data": {
      "text/html": [
       "<div>\n",
       "<style scoped>\n",
       "    .dataframe tbody tr th:only-of-type {\n",
       "        vertical-align: middle;\n",
       "    }\n",
       "\n",
       "    .dataframe tbody tr th {\n",
       "        vertical-align: top;\n",
       "    }\n",
       "\n",
       "    .dataframe thead th {\n",
       "        text-align: right;\n",
       "    }\n",
       "</style>\n",
       "<table border=\"1\" class=\"dataframe\">\n",
       "  <thead>\n",
       "    <tr style=\"text-align: right;\">\n",
       "      <th></th>\n",
       "      <th>Price</th>\n",
       "      <th>rooms</th>\n",
       "      <th>price_per_m2</th>\n",
       "      <th>level</th>\n",
       "      <th>levels</th>\n",
       "      <th>year</th>\n",
       "      <th>area_total</th>\n",
       "      <th>area_living</th>\n",
       "      <th>area_kitchen</th>\n",
       "      <th>street</th>\n",
       "      <th>type</th>\n",
       "      <th>district</th>\n",
       "      <th>area_comfort</th>\n",
       "    </tr>\n",
       "  </thead>\n",
       "  <tbody>\n",
       "    <tr>\n",
       "      <th>0</th>\n",
       "      <td>30970.0</td>\n",
       "      <td>1.0</td>\n",
       "      <td>1106.0</td>\n",
       "      <td>12.0</td>\n",
       "      <td>13.0</td>\n",
       "      <td>2013.0</td>\n",
       "      <td>28.0</td>\n",
       "      <td>13.0</td>\n",
       "      <td>5.0</td>\n",
       "      <td>Петропавлівська</td>\n",
       "      <td>площа</td>\n",
       "      <td>Оболонський</td>\n",
       "      <td>10.0</td>\n",
       "    </tr>\n",
       "    <tr>\n",
       "      <th>1</th>\n",
       "      <td>30970.0</td>\n",
       "      <td>1.0</td>\n",
       "      <td>1106.0</td>\n",
       "      <td>12.0</td>\n",
       "      <td>13.0</td>\n",
       "      <td>2013.0</td>\n",
       "      <td>28.0</td>\n",
       "      <td>13.0</td>\n",
       "      <td>5.0</td>\n",
       "      <td>Петропавлівська</td>\n",
       "      <td>вулиця</td>\n",
       "      <td>Подільський</td>\n",
       "      <td>10.0</td>\n",
       "    </tr>\n",
       "    <tr>\n",
       "      <th>2</th>\n",
       "      <td>82000.0</td>\n",
       "      <td>2.0</td>\n",
       "      <td>1281.0</td>\n",
       "      <td>18.0</td>\n",
       "      <td>26.0</td>\n",
       "      <td>2009.0</td>\n",
       "      <td>64.0</td>\n",
       "      <td>37.0</td>\n",
       "      <td>14.0</td>\n",
       "      <td>Дніпровська</td>\n",
       "      <td>вулиця</td>\n",
       "      <td>Оболонський</td>\n",
       "      <td>13.0</td>\n",
       "    </tr>\n",
       "    <tr>\n",
       "      <th>3</th>\n",
       "      <td>135000.0</td>\n",
       "      <td>2.0</td>\n",
       "      <td>2077.0</td>\n",
       "      <td>16.0</td>\n",
       "      <td>23.0</td>\n",
       "      <td>2012.0</td>\n",
       "      <td>65.0</td>\n",
       "      <td>25.0</td>\n",
       "      <td>18.0</td>\n",
       "      <td>Дніпровська</td>\n",
       "      <td>вулиця</td>\n",
       "      <td>Оболонський</td>\n",
       "      <td>22.0</td>\n",
       "    </tr>\n",
       "    <tr>\n",
       "      <th>4</th>\n",
       "      <td>84000.0</td>\n",
       "      <td>2.0</td>\n",
       "      <td>1273.0</td>\n",
       "      <td>6.0</td>\n",
       "      <td>26.0</td>\n",
       "      <td>2009.0</td>\n",
       "      <td>66.0</td>\n",
       "      <td>37.0</td>\n",
       "      <td>18.0</td>\n",
       "      <td>Дніпровська</td>\n",
       "      <td>вулиця</td>\n",
       "      <td>Оболонський</td>\n",
       "      <td>11.0</td>\n",
       "    </tr>\n",
       "  </tbody>\n",
       "</table>\n",
       "</div>"
      ],
      "text/plain": [
       "      Price  rooms  price_per_m2  level  levels    year  area_total  \\\n",
       "0   30970.0    1.0        1106.0   12.0    13.0  2013.0        28.0   \n",
       "1   30970.0    1.0        1106.0   12.0    13.0  2013.0        28.0   \n",
       "2   82000.0    2.0        1281.0   18.0    26.0  2009.0        64.0   \n",
       "3  135000.0    2.0        2077.0   16.0    23.0  2012.0        65.0   \n",
       "4   84000.0    2.0        1273.0    6.0    26.0  2009.0        66.0   \n",
       "\n",
       "   area_living  area_kitchen           street    type     district  \\\n",
       "0         13.0           5.0  Петропавлівська   площа  Оболонський   \n",
       "1         13.0           5.0  Петропавлівська  вулиця  Подільський   \n",
       "2         37.0          14.0      Дніпровська  вулиця  Оболонський   \n",
       "3         25.0          18.0      Дніпровська  вулиця  Оболонський   \n",
       "4         37.0          18.0      Дніпровська  вулиця  Оболонський   \n",
       "\n",
       "   area_comfort  \n",
       "0          10.0  \n",
       "1          10.0  \n",
       "2          13.0  \n",
       "3          22.0  \n",
       "4          11.0  "
      ]
     },
     "execution_count": 3,
     "metadata": {},
     "output_type": "execute_result"
    }
   ],
   "source": [
    "# ззчитати підготовлений датасет `apartments_clean.csv` в датафрейм та проінспектувати його стан\n",
    "data = pd.read_csv(\"apartments_clean.csv\")\n",
    "data.head()"
   ]
  },
  {
   "cell_type": "code",
   "execution_count": 5,
   "id": "67abfa5a",
   "metadata": {},
   "outputs": [
    {
     "name": "stdout",
     "output_type": "stream",
     "text": [
      "<class 'pandas.core.frame.DataFrame'>\n",
      "RangeIndex: 483 entries, 0 to 482\n",
      "Data columns (total 13 columns):\n",
      " #   Column        Non-Null Count  Dtype  \n",
      "---  ------        --------------  -----  \n",
      " 0   Price         483 non-null    float64\n",
      " 1   rooms         483 non-null    float64\n",
      " 2   price_per_m2  483 non-null    float64\n",
      " 3   level         483 non-null    float64\n",
      " 4   levels        483 non-null    float64\n",
      " 5   year          483 non-null    float64\n",
      " 6   area_total    483 non-null    float64\n",
      " 7   area_living   483 non-null    float64\n",
      " 8   area_kitchen  483 non-null    float64\n",
      " 9   street        483 non-null    object \n",
      " 10  type          483 non-null    object \n",
      " 11  district      483 non-null    object \n",
      " 12  area_comfort  483 non-null    float64\n",
      "dtypes: float64(10), object(3)\n",
      "memory usage: 49.2+ KB\n"
     ]
    }
   ],
   "source": [
    "data.info()"
   ]
  },
  {
   "cell_type": "markdown",
   "id": "9657db97",
   "metadata": {
    "heading_collapsed": true
   },
   "source": [
    "## 1. Визначення типів покажчиків вхідного датасету"
   ]
  },
  {
   "cell_type": "code",
   "execution_count": 6,
   "id": "fb9d7753",
   "metadata": {
    "hidden": true
   },
   "outputs": [
    {
     "data": {
      "text/html": [
       "<div>\n",
       "<style scoped>\n",
       "    .dataframe tbody tr th:only-of-type {\n",
       "        vertical-align: middle;\n",
       "    }\n",
       "\n",
       "    .dataframe tbody tr th {\n",
       "        vertical-align: top;\n",
       "    }\n",
       "\n",
       "    .dataframe thead th {\n",
       "        text-align: right;\n",
       "    }\n",
       "</style>\n",
       "<table border=\"1\" class=\"dataframe\">\n",
       "  <thead>\n",
       "    <tr style=\"text-align: right;\">\n",
       "      <th></th>\n",
       "      <th>rooms</th>\n",
       "      <th>price_per_m2</th>\n",
       "      <th>level</th>\n",
       "      <th>levels</th>\n",
       "      <th>year</th>\n",
       "      <th>area_total</th>\n",
       "      <th>area_living</th>\n",
       "      <th>area_kitchen</th>\n",
       "      <th>street</th>\n",
       "      <th>type</th>\n",
       "      <th>district</th>\n",
       "      <th>area_comfort</th>\n",
       "    </tr>\n",
       "  </thead>\n",
       "  <tbody>\n",
       "    <tr>\n",
       "      <th>0</th>\n",
       "      <td>1.0</td>\n",
       "      <td>1106.0</td>\n",
       "      <td>12.0</td>\n",
       "      <td>13.0</td>\n",
       "      <td>2013.0</td>\n",
       "      <td>28.0</td>\n",
       "      <td>13.0</td>\n",
       "      <td>5.0</td>\n",
       "      <td>Петропавлівська</td>\n",
       "      <td>площа</td>\n",
       "      <td>Оболонський</td>\n",
       "      <td>10.0</td>\n",
       "    </tr>\n",
       "    <tr>\n",
       "      <th>1</th>\n",
       "      <td>1.0</td>\n",
       "      <td>1106.0</td>\n",
       "      <td>12.0</td>\n",
       "      <td>13.0</td>\n",
       "      <td>2013.0</td>\n",
       "      <td>28.0</td>\n",
       "      <td>13.0</td>\n",
       "      <td>5.0</td>\n",
       "      <td>Петропавлівська</td>\n",
       "      <td>вулиця</td>\n",
       "      <td>Подільський</td>\n",
       "      <td>10.0</td>\n",
       "    </tr>\n",
       "    <tr>\n",
       "      <th>2</th>\n",
       "      <td>2.0</td>\n",
       "      <td>1281.0</td>\n",
       "      <td>18.0</td>\n",
       "      <td>26.0</td>\n",
       "      <td>2009.0</td>\n",
       "      <td>64.0</td>\n",
       "      <td>37.0</td>\n",
       "      <td>14.0</td>\n",
       "      <td>Дніпровська</td>\n",
       "      <td>вулиця</td>\n",
       "      <td>Оболонський</td>\n",
       "      <td>13.0</td>\n",
       "    </tr>\n",
       "    <tr>\n",
       "      <th>3</th>\n",
       "      <td>2.0</td>\n",
       "      <td>2077.0</td>\n",
       "      <td>16.0</td>\n",
       "      <td>23.0</td>\n",
       "      <td>2012.0</td>\n",
       "      <td>65.0</td>\n",
       "      <td>25.0</td>\n",
       "      <td>18.0</td>\n",
       "      <td>Дніпровська</td>\n",
       "      <td>вулиця</td>\n",
       "      <td>Оболонський</td>\n",
       "      <td>22.0</td>\n",
       "    </tr>\n",
       "    <tr>\n",
       "      <th>4</th>\n",
       "      <td>2.0</td>\n",
       "      <td>1273.0</td>\n",
       "      <td>6.0</td>\n",
       "      <td>26.0</td>\n",
       "      <td>2009.0</td>\n",
       "      <td>66.0</td>\n",
       "      <td>37.0</td>\n",
       "      <td>18.0</td>\n",
       "      <td>Дніпровська</td>\n",
       "      <td>вулиця</td>\n",
       "      <td>Оболонський</td>\n",
       "      <td>11.0</td>\n",
       "    </tr>\n",
       "    <tr>\n",
       "      <th>...</th>\n",
       "      <td>...</td>\n",
       "      <td>...</td>\n",
       "      <td>...</td>\n",
       "      <td>...</td>\n",
       "      <td>...</td>\n",
       "      <td>...</td>\n",
       "      <td>...</td>\n",
       "      <td>...</td>\n",
       "      <td>...</td>\n",
       "      <td>...</td>\n",
       "      <td>...</td>\n",
       "      <td>...</td>\n",
       "    </tr>\n",
       "    <tr>\n",
       "      <th>478</th>\n",
       "      <td>2.0</td>\n",
       "      <td>998.0</td>\n",
       "      <td>1.0</td>\n",
       "      <td>5.0</td>\n",
       "      <td>2009.0</td>\n",
       "      <td>43.0</td>\n",
       "      <td>29.0</td>\n",
       "      <td>14.0</td>\n",
       "      <td>Іскрівська</td>\n",
       "      <td>вулиця</td>\n",
       "      <td>Солом'янський</td>\n",
       "      <td>0.0</td>\n",
       "    </tr>\n",
       "    <tr>\n",
       "      <th>479</th>\n",
       "      <td>1.0</td>\n",
       "      <td>2614.0</td>\n",
       "      <td>2.0</td>\n",
       "      <td>7.0</td>\n",
       "      <td>2019.0</td>\n",
       "      <td>44.0</td>\n",
       "      <td>14.0</td>\n",
       "      <td>21.0</td>\n",
       "      <td>Теремківська</td>\n",
       "      <td>вулиця</td>\n",
       "      <td>Голосіївський</td>\n",
       "      <td>9.0</td>\n",
       "    </tr>\n",
       "    <tr>\n",
       "      <th>480</th>\n",
       "      <td>1.0</td>\n",
       "      <td>1147.0</td>\n",
       "      <td>3.0</td>\n",
       "      <td>5.0</td>\n",
       "      <td>1960.0</td>\n",
       "      <td>34.0</td>\n",
       "      <td>18.0</td>\n",
       "      <td>8.0</td>\n",
       "      <td>Автозаводська</td>\n",
       "      <td>вулиця</td>\n",
       "      <td>Оболонський</td>\n",
       "      <td>8.0</td>\n",
       "    </tr>\n",
       "    <tr>\n",
       "      <th>481</th>\n",
       "      <td>3.0</td>\n",
       "      <td>1135.0</td>\n",
       "      <td>13.0</td>\n",
       "      <td>25.0</td>\n",
       "      <td>2004.0</td>\n",
       "      <td>69.0</td>\n",
       "      <td>37.0</td>\n",
       "      <td>14.0</td>\n",
       "      <td>Здолбунівська</td>\n",
       "      <td>вулиця</td>\n",
       "      <td>Дарницький</td>\n",
       "      <td>18.0</td>\n",
       "    </tr>\n",
       "    <tr>\n",
       "      <th>482</th>\n",
       "      <td>2.0</td>\n",
       "      <td>1915.0</td>\n",
       "      <td>8.0</td>\n",
       "      <td>15.0</td>\n",
       "      <td>2009.0</td>\n",
       "      <td>47.0</td>\n",
       "      <td>17.0</td>\n",
       "      <td>20.0</td>\n",
       "      <td>Шолуденка</td>\n",
       "      <td>вулиця</td>\n",
       "      <td>Шевченківський</td>\n",
       "      <td>10.0</td>\n",
       "    </tr>\n",
       "  </tbody>\n",
       "</table>\n",
       "<p>483 rows × 12 columns</p>\n",
       "</div>"
      ],
      "text/plain": [
       "     rooms  price_per_m2  level  levels    year  area_total  area_living  \\\n",
       "0      1.0        1106.0   12.0    13.0  2013.0        28.0         13.0   \n",
       "1      1.0        1106.0   12.0    13.0  2013.0        28.0         13.0   \n",
       "2      2.0        1281.0   18.0    26.0  2009.0        64.0         37.0   \n",
       "3      2.0        2077.0   16.0    23.0  2012.0        65.0         25.0   \n",
       "4      2.0        1273.0    6.0    26.0  2009.0        66.0         37.0   \n",
       "..     ...           ...    ...     ...     ...         ...          ...   \n",
       "478    2.0         998.0    1.0     5.0  2009.0        43.0         29.0   \n",
       "479    1.0        2614.0    2.0     7.0  2019.0        44.0         14.0   \n",
       "480    1.0        1147.0    3.0     5.0  1960.0        34.0         18.0   \n",
       "481    3.0        1135.0   13.0    25.0  2004.0        69.0         37.0   \n",
       "482    2.0        1915.0    8.0    15.0  2009.0        47.0         17.0   \n",
       "\n",
       "     area_kitchen           street    type        district  area_comfort  \n",
       "0             5.0  Петропавлівська   площа     Оболонський          10.0  \n",
       "1             5.0  Петропавлівська  вулиця     Подільський          10.0  \n",
       "2            14.0      Дніпровська  вулиця     Оболонський          13.0  \n",
       "3            18.0      Дніпровська  вулиця     Оболонський          22.0  \n",
       "4            18.0      Дніпровська  вулиця     Оболонський          11.0  \n",
       "..            ...              ...     ...             ...           ...  \n",
       "478          14.0       Іскрівська  вулиця   Солом'янський           0.0  \n",
       "479          21.0     Теремківська  вулиця   Голосіївський           9.0  \n",
       "480           8.0    Автозаводська  вулиця     Оболонський           8.0  \n",
       "481          14.0    Здолбунівська  вулиця      Дарницький          18.0  \n",
       "482          20.0        Шолуденка  вулиця  Шевченківський          10.0  \n",
       "\n",
       "[483 rows x 12 columns]"
      ]
     },
     "execution_count": 6,
     "metadata": {},
     "output_type": "execute_result"
    }
   ],
   "source": [
    "# відокремити від робочого датасету колонку з цільовим показчиком (`Price`) \n",
    "# та вилучити її з обробки\n",
    "target = data['Price']\n",
    "data.drop(columns='Price', inplace=True)\n",
    "data"
   ]
  },
  {
   "cell_type": "code",
   "execution_count": 7,
   "id": "dbb005f1",
   "metadata": {
    "hidden": true
   },
   "outputs": [
    {
     "data": {
      "text/plain": [
       "((483,), (483, 12))"
      ]
     },
     "execution_count": 7,
     "metadata": {},
     "output_type": "execute_result"
    }
   ],
   "source": [
    "# для самоперевірки: кількисть рядків в датасетах повинна співпадати!\n",
    "target.shape, data.shape"
   ]
  },
  {
   "cell_type": "code",
   "execution_count": 8,
   "id": "ae23f321",
   "metadata": {
    "hidden": true
   },
   "outputs": [],
   "source": [
    "# імпортувати з sklearn модуль, що відповідає за селективний відбір покажчиків\n",
    "from sklearn.compose import make_column_selector as col_selector"
   ]
  },
  {
   "cell_type": "code",
   "execution_count": 9,
   "id": "652f0ba2",
   "metadata": {
    "hidden": true
   },
   "outputs": [],
   "source": [
    "# побудувати  селектори для вібіру числових та категоріальних колонок\n",
    "numeric_selector = col_selector(dtype_include=np.number)\n",
    "category_selector = col_selector(dtype_include=object)"
   ]
  },
  {
   "cell_type": "code",
   "execution_count": 10,
   "id": "a673dde6",
   "metadata": {
    "hidden": true
   },
   "outputs": [
    {
     "name": "stdout",
     "output_type": "stream",
     "text": [
      "список числових покажчиків = ['rooms', 'price_per_m2', 'level', 'levels', 'year', 'area_total', 'area_living', 'area_kitchen', 'area_comfort']\n",
      "список категоріальних покажчиків = ['street', 'type', 'district']\n"
     ]
    }
   ],
   "source": [
    "# застосувати побудовані селектори для створення списків числових та категоріальних показчиків\n",
    "numeric_data_columns = numeric_selector(data)\n",
    "category_data_columns = category_selector(data)\n",
    "\n",
    "print(f'список числових покажчиків = {numeric_data_columns}')\n",
    "print(f'список категоріальних покажчиків = {category_data_columns}')"
   ]
  },
  {
   "cell_type": "code",
   "execution_count": 11,
   "id": "6ecaeec9",
   "metadata": {
    "hidden": true
   },
   "outputs": [
    {
     "data": {
      "text/plain": [
       "((483, 9), (483, 3))"
      ]
     },
     "execution_count": 11,
     "metadata": {},
     "output_type": "execute_result"
    }
   ],
   "source": [
    "# створити 2 окремі датасети: числовий та категоріальний та вивести їх основні властивості\n",
    "data_numeric = data[numeric_data_columns]\n",
    "data_category = data[category_data_columns]\n",
    "\n",
    "data_numeric.shape, data_category.shape"
   ]
  },
  {
   "cell_type": "markdown",
   "id": "6702f1f4",
   "metadata": {},
   "source": [
    "## 2. Маштабування числових та категоріальних колонок"
   ]
  },
  {
   "cell_type": "markdown",
   "id": "73613dc5",
   "metadata": {
    "heading_collapsed": true
   },
   "source": [
    "### 2.1. Маштабування числових показчиків"
   ]
  },
  {
   "cell_type": "code",
   "execution_count": null,
   "id": "17349145",
   "metadata": {
    "hidden": true
   },
   "outputs": [],
   "source": [
    "# з модуля `preprocessing` імпортувати нормалізатор 'MinMaxScaler' та стандартизатор 'StandardScaler'\n",
    "..."
   ]
  },
  {
   "cell_type": "code",
   "execution_count": null,
   "id": "6fc56713",
   "metadata": {
    "hidden": true
   },
   "outputs": [],
   "source": [
    "# створити відповідні маштабувачі\n",
    "standart_scaler = ...\n",
    "min_max_scaler = ..."
   ]
  },
  {
   "cell_type": "code",
   "execution_count": null,
   "id": "0f4a23e6",
   "metadata": {
    "hidden": true
   },
   "outputs": [],
   "source": [
    "# побудувати змаштабовані датасети за двома стратегіями: стандартизація та нормалізація\n",
    "data_numeric_std = ...\n",
    "data_numeric_min_max= ..."
   ]
  },
  {
   "cell_type": "code",
   "execution_count": 2,
   "id": "343c666c",
   "metadata": {
    "hidden": true
   },
   "outputs": [],
   "source": [
    "# побудувати графіки розподілення значень показчиків при\n",
    "# стандартном та нормалізованом маштабуванні\n",
    "..."
   ]
  },
  {
   "cell_type": "markdown",
   "id": "3813999f",
   "metadata": {
    "hidden": true
   },
   "source": [
    "#####  __проаналізувати графіки та визначись який маштабувач краще підходить до числовї підмножини робочого датасету__"
   ]
  },
  {
   "cell_type": "markdown",
   "id": "b76b10d8",
   "metadata": {
    "heading_collapsed": true
   },
   "source": [
    "### 2.1. Маштабування категоріальних показчиків"
   ]
  },
  {
   "cell_type": "code",
   "execution_count": null,
   "id": "8f404fef",
   "metadata": {
    "hidden": true
   },
   "outputs": [],
   "source": [
    "# з модуля `preporcessing` імпортувати кодувальники 'OrdinalEncoder' та 'OneHotEncoder'\n",
    "..."
   ]
  },
  {
   "cell_type": "code",
   "execution_count": null,
   "id": "9118d4ce",
   "metadata": {
    "hidden": true
   },
   "outputs": [],
   "source": [
    "# проаналізувати категоріальні показчики та визначитись до якого показчика\n",
    "# який енкодер доцільно застосовувати\n",
    "..."
   ]
  },
  {
   "cell_type": "code",
   "execution_count": null,
   "id": "b70c4794",
   "metadata": {
    "hidden": true
   },
   "outputs": [],
   "source": [
    "# створити енкодери та закодувати ними відповідні категоріальні колонки\n",
    "ordinal_encoder = ...\n",
    "one_hot_encoder = ..."
   ]
  },
  {
   "cell_type": "markdown",
   "id": "bb506c75",
   "metadata": {
    "heading_collapsed": true
   },
   "source": [
    "## 3. Побудова трансформера для підготовки даних"
   ]
  },
  {
   "cell_type": "code",
   "execution_count": null,
   "id": "7c6c1930",
   "metadata": {
    "hidden": true
   },
   "outputs": [],
   "source": [
    "# з модуля `compose` імпортувати трансформер колонок `ColumnTransformer`\n",
    "..."
   ]
  },
  {
   "cell_type": "code",
   "execution_count": null,
   "id": "2605b0c2",
   "metadata": {
    "hidden": true
   },
   "outputs": [],
   "source": [
    "# побудувати трансформер для предобробки числових та категоріальних показчиків\n",
    "# робочого датасету\n",
    "transformer = ...\n",
    "print(transformer)"
   ]
  },
  {
   "cell_type": "code",
   "execution_count": null,
   "id": "2375ade7",
   "metadata": {
    "code_folding": [],
    "hidden": true
   },
   "outputs": [],
   "source": [
    "# отримати вихідний масив застосував трансфомер до вхідного датасуту\n",
    "data_transformed = ...\n",
    "data_transformed.shape"
   ]
  },
  {
   "cell_type": "code",
   "execution_count": null,
   "id": "4ea575ba",
   "metadata": {
    "hidden": true
   },
   "outputs": [],
   "source": [
    "# побудувати вихідний датафрейм з вихідного масиву додавши в першу колонку\n",
    "# ціловий показчик `target`\n",
    "apartment_transformed = ..."
   ]
  },
  {
   "cell_type": "code",
   "execution_count": null,
   "id": "392d36bf",
   "metadata": {
    "hidden": true
   },
   "outputs": [],
   "source": [
    "# Проінспектувати вихідний датасет `apartment_transformed`\n",
    "..."
   ]
  },
  {
   "cell_type": "code",
   "execution_count": null,
   "id": "3fca0d30",
   "metadata": {
    "hidden": true
   },
   "outputs": [],
   "source": [
    "# зберегти підготовлений датасет в csv-файлі `apartment_transformed.csv`\n",
    "..."
   ]
  }
 ],
 "metadata": {
  "hide_input": false,
  "kernelspec": {
   "display_name": "Python 3 (ipykernel)",
   "language": "python",
   "name": "python3"
  },
  "language_info": {
   "codemirror_mode": {
    "name": "ipython",
    "version": 3
   },
   "file_extension": ".py",
   "mimetype": "text/x-python",
   "name": "python",
   "nbconvert_exporter": "python",
   "pygments_lexer": "ipython3",
   "version": "3.7.0"
  },
  "varInspector": {
   "cols": {
    "lenName": 16,
    "lenType": 16,
    "lenVar": 40
   },
   "kernels_config": {
    "python": {
     "delete_cmd_postfix": "",
     "delete_cmd_prefix": "del ",
     "library": "var_list.py",
     "varRefreshCmd": "print(var_dic_list())"
    },
    "r": {
     "delete_cmd_postfix": ") ",
     "delete_cmd_prefix": "rm(",
     "library": "var_list.r",
     "varRefreshCmd": "cat(var_dic_list()) "
    }
   },
   "types_to_exclude": [
    "module",
    "function",
    "builtin_function_or_method",
    "instance",
    "_Feature"
   ],
   "window_display": false
  }
 },
 "nbformat": 4,
 "nbformat_minor": 5
}
